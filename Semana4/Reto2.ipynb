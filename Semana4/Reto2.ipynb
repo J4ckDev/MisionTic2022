{
 "cells": [
  {
   "cell_type": "markdown",
   "id": "legitimate-regular",
   "metadata": {},
   "source": [
    "# Problema\n",
    "\n",
    "James Hammett y Kirk Hetfield están viajando hacia Colombia, y quieren conocer más de su cultura. Así que deciden crear un videojuego para estudiar música tradicional colombiana un poco más, y se encuentran con una gran idea: **ArpaLlanera Hero**. Este es un videojuego en donde se tienen 26 cuerdas (mencionadas de la A a la Z), y ellos deben adivinar correctamente la cuerda que suena para acumular puntos y así definir al ganador.\n",
    "\n",
    "La dinámica del juego es la siguiente: cada uno de los jugadores va a seleccionar un grupo de cuerdas, donde el grupo de ambos debe ser de la misma cantidad de cuerdas, e incluso los jugadores pueden escoger la misma cuerda como parte de sus grupos. Si la cuerda que suena está en el grupo de alguno de los jugadores se le asigna un punto a dicho jugador, y luego se comparan las puntuaciones de cada uno; si James lleva más puntos se anota una 'J', si Kirk lleva más puntos se anota una 'K', y si llevan los mismos puntos se anota una 'L'.\n",
    "\n",
    "Curiosamente, usted está en el mismo bus como \"jalacables\", pero ellos recuerdan que usted sabe programación, y le solicitan crear un programa que reciba el grupo letras que corresponden al grupo de cuerdas con las que juega de James (como una cadena de caracteres), luego reciba el grupo de cuerdas con las que juega Kirk (como una cadena de caracteres), y finalmente el conjunto de cuerdas que van a sonar en el juego de manera secuencial (también como una cadena de caracteres). El programa debe mostrar en la consola las anotaciones realizadas en la dinámica del juego.\n",
    "\n",
    "- **Entrada**  \n",
    "La entrada consta de tres cadenas de caracteres separadas por fin de línea. La primera línea corresponde al grupo de cuerdas de James, la segunda línea corresponde al grupo de cuerdas de Kirk, y una tercera que corresponde a la secuencia de cuerdas que sonarán en el juego.\n",
    "\n",
    "- **Salida**  \n",
    "Una cadena de caracteres con las letras J, K y L, dependiendo de las puntuaciones que vaya teniendo cada jugador cada vez que suena una cuerda.\n",
    "\n",
    "- **Ejemplo**  \n",
    "|Entrada|Salida|\n",
    "|:------|:-----|\n",
    "|AHS||\n",
    "|SDA|LLLLKKKKKKKKKKKKKKKKKKKK|\n",
    "|AJSSDSAASASASSASADAJAJSS||\n",
    "\n",
    "\n",
    "\n",
    "## Solución"
   ]
  },
  {
   "cell_type": "code",
   "execution_count": 1,
   "id": "blocked-youth",
   "metadata": {},
   "outputs": [
    {
     "name": "stdout",
     "output_type": "stream",
     "text": [
      "Ingrese su grupo de cuerdas: AHS\n",
      "Ingrese su grupo de cuerdas: SDA\n",
      "Ingrese el conjunto de cuerdas para el juego actual: AJSSDSAASASASSASADAJAJSS\n",
      "El resultado por rondas es: LLLLKKKKKKKKKKKKKKKKKKKK\n"
     ]
    }
   ],
   "source": [
    "def asignar_punto(cuerda,cuerdas_jugador):\n",
    "    return 1 if (cuerda in cuerdas_jugador) else 0\n",
    "\n",
    "def ganador_ronda(puntos_james,puntos_kirk):\n",
    "    if puntos_james > puntos_kirk:\n",
    "        return \"J\"\n",
    "    elif puntos_james < puntos_kirk:\n",
    "        return \"K\"\n",
    "    else:\n",
    "        return \"L\"\n",
    "\n",
    "cuerdas_james = input(\"Ingrese su grupo de cuerdas: \")\n",
    "cuerdas_kirk = input(\"Ingrese su grupo de cuerdas: \")\n",
    "conjunto_cuerdas = input(\"Ingrese el conjunto de cuerdas para el juego actual: \")\n",
    "puntos_james = 0\n",
    "puntos_kirk = 0\n",
    "resultado_final = \"\"\n",
    "for cuerda in conjunto_cuerdas:\n",
    "    puntos_james += asignar_punto(cuerda,cuerdas_james)\n",
    "    puntos_kirk += asignar_punto(cuerda,cuerdas_kirk)\n",
    "    resultado_final += ganador_ronda(puntos_james,puntos_kirk)\n",
    "    \n",
    "print(f\"El resultado por rondas es: {resultado_final}\")"
   ]
  }
 ],
 "metadata": {
  "kernelspec": {
   "display_name": "Python 3",
   "language": "python",
   "name": "python3"
  },
  "language_info": {
   "codemirror_mode": {
    "name": "ipython",
    "version": 3
   },
   "file_extension": ".py",
   "mimetype": "text/x-python",
   "name": "python",
   "nbconvert_exporter": "python",
   "pygments_lexer": "ipython3",
   "version": "3.8.5"
  }
 },
 "nbformat": 4,
 "nbformat_minor": 5
}
