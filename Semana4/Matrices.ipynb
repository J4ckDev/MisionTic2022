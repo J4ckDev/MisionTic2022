{
 "cells": [
  {
   "cell_type": "markdown",
   "id": "annoying-belarus",
   "metadata": {},
   "source": [
    "# Problemas\n",
    "\n",
    "1. Desarrollar un algoritmo que permita sumar dos matrices de números reales (enteros).\n",
    "2. Desarrollar un algoritmo que permita multiplicar dos matrices de números reales (enteros).\n",
    "3. Desarrollar un programa que sume los elementos de una columna dada de una matriz.\n",
    "4. Desarrollar un programa que sume los elementos de una fila dada de una matriz.\n",
    "5. Desarrollar un algoritmo que determine si una matriz es mágica. Se dice que una matriz cuadrada es mágica si la suma de cada una de sus filas, de cada una de sus columnas y de cada diagonal es igual.\n",
    "\n",
    "## Soluciones\n",
    "\n",
    "### 1. R/"
   ]
  },
  {
   "cell_type": "code",
   "execution_count": 35,
   "id": "shaped-bishop",
   "metadata": {},
   "outputs": [
    {
     "name": "stdout",
     "output_type": "stream",
     "text": [
      "False\n",
      "False\n",
      "[[10, 10, 10], [10, 10, 10], [10, 10, 10]]\n",
      "[[2, 3], [4, 5], [7, 8], [9, 11]]\n"
     ]
    }
   ],
   "source": [
    "def is_array(array):\n",
    "    number_of_rows = range(len(array))\n",
    "    number_of_columns = len(array[0])\n",
    "    for row in number_of_rows:\n",
    "        if len(array[row]) != number_of_columns:\n",
    "            return False\n",
    "    return True\n",
    "\n",
    "def array_size(array):\n",
    "    if is_array(array):\n",
    "        rows = len(array)\n",
    "        columns = len(array[0])\n",
    "        return (rows,columns)    \n",
    "    return False\n",
    "\n",
    "def arrays_with_same_size(array_one,array_two):\n",
    "    array_one_size = array_size(array_one)\n",
    "    array_two_size = array_size(array_two)    \n",
    "    if array_one_size != False and array_two_size != False:\n",
    "        is_equal = (array_one_size == array_two_size)\n",
    "        if is_equal:\n",
    "            return True        \n",
    "    return False\n",
    "\n",
    "def sum_two_arrays(array_one,array_two):\n",
    "    if arrays_with_same_size(array_one,array_two):\n",
    "        result = []\n",
    "        summed_values_by_row = []\n",
    "        rows,columns = array_size(array_one)\n",
    "        for row in range(rows):\n",
    "            for column in range(columns):\n",
    "                summed_values_by_row.append(array_one[row][column]+array_two[row][column])\n",
    "            result.append(summed_values_by_row)\n",
    "            summed_values_by_row = []\n",
    "        return result\n",
    "    return False\n",
    "                \n",
    "\n",
    "matrix_a = [[1,2,3],[4,5,6],[7,8,9]]\n",
    "matrix_b = [[1,2,3],[4,5,6,2]]\n",
    "matrix_c = [[1,2],[3,4],[5,6],[7,9]]\n",
    "matrix_d = [[9,8,7],[6,5,4],[3,2,1]]\n",
    "matrix_e = [[1,1],[1,1],[2,2],[2,2]]\n",
    "\n",
    "print(sum_two_arrays(matrix_a,matrix_b))\n",
    "print(sum_two_arrays(matrix_a,matrix_c))\n",
    "print(sum_two_arrays(matrix_a,matrix_d))\n",
    "print(sum_two_arrays(matrix_c,matrix_e))"
   ]
  },
  {
   "cell_type": "markdown",
   "id": "serious-accused",
   "metadata": {},
   "source": [
    "### 2. R/"
   ]
  },
  {
   "cell_type": "code",
   "execution_count": null,
   "id": "golden-protection",
   "metadata": {},
   "outputs": [],
   "source": []
  }
 ],
 "metadata": {
  "kernelspec": {
   "display_name": "Python 3",
   "language": "python",
   "name": "python3"
  },
  "language_info": {
   "codemirror_mode": {
    "name": "ipython",
    "version": 3
   },
   "file_extension": ".py",
   "mimetype": "text/x-python",
   "name": "python",
   "nbconvert_exporter": "python",
   "pygments_lexer": "ipython3",
   "version": "3.8.5"
  }
 },
 "nbformat": 4,
 "nbformat_minor": 5
}
