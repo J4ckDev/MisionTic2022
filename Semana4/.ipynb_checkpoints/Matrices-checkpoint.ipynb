{
 "cells": [
  {
   "cell_type": "markdown",
   "id": "annoying-belarus",
   "metadata": {},
   "source": [
    "# Problemas\n",
    "\n",
    "1. Desarrollar un algoritmo que permita sumar dos matrices de números reales (enteros).\n",
    "2. Desarrollar un algoritmo que permita multiplicar dos matrices de números reales (enteros).\n",
    "3. Desarrollar un programa que sume los elementos de una columna dada de una matriz.\n",
    "4. Desarrollar un programa que sume los elementos de una fila dada de una matriz.\n",
    "5. Desarrollar un algoritmo que determine si una matriz es mágica. Se dice que una matriz cuadrada es mágica si la suma de cada una de sus filas, de cada una de sus columnas y de cada diagonal es igual.\n",
    "\n",
    "## Soluciones\n",
    "\n",
    "### 1. R/"
   ]
  },
  {
   "cell_type": "code",
   "execution_count": 1,
   "id": "shaped-bishop",
   "metadata": {},
   "outputs": [
    {
     "name": "stdout",
     "output_type": "stream",
     "text": [
      "False\n",
      "False\n",
      "[[10, 10, 10], [10, 10, 10], [10, 10, 10]]\n",
      "[[2, 3], [4, 5], [7, 8], [9, 11]]\n"
     ]
    }
   ],
   "source": [
    "def is_array(array):\n",
    "    number_of_rows = range(len(array))\n",
    "    number_of_columns = len(array[0])\n",
    "    for row in number_of_rows:\n",
    "        if len(array[row]) != number_of_columns:\n",
    "            return False\n",
    "    return True\n",
    "\n",
    "def array_size(array):\n",
    "    if is_array(array):\n",
    "        rows = len(array)\n",
    "        columns = len(array[0])\n",
    "        return (rows,columns)    \n",
    "    return None\n",
    "\n",
    "def arrays_with_same_size(array_one,array_two):\n",
    "    array_one_size = array_size(array_one)\n",
    "    array_two_size = array_size(array_two)    \n",
    "    if array_one_size != None and array_two_size != False:\n",
    "        is_equal = (array_one_size == array_two_size)\n",
    "        if is_equal:\n",
    "            return True        \n",
    "    return False\n",
    "\n",
    "def sum_two_arrays(array_one,array_two):\n",
    "    if arrays_with_same_size(array_one,array_two):\n",
    "        result = []\n",
    "        added_values_by_row = []\n",
    "        rows,columns = array_size(array_one)\n",
    "        for row in range(rows):\n",
    "            for column in range(columns):\n",
    "                added_values_by_row.append(array_one[row][column]+array_two[row][column])\n",
    "            result.append(added_values_by_row)\n",
    "            added_values_by_row = []\n",
    "        return result\n",
    "    return False\n",
    "                \n",
    "\n",
    "matrix_a = [[1,2,3],[4,5,6],[7,8,9]]\n",
    "matrix_b = [[1,2,3],[4,5,6,2]]\n",
    "matrix_c = [[1,2],[3,4],[5,6],[7,9]]\n",
    "matrix_d = [[9,8,7],[6,5,4],[3,2,1]]\n",
    "matrix_e = [[1,1],[1,1],[2,2],[2,2]]\n",
    "\n",
    "print(sum_two_arrays(matrix_a,matrix_b))\n",
    "print(sum_two_arrays(matrix_a,matrix_c))\n",
    "print(sum_two_arrays(matrix_a,matrix_d))\n",
    "print(sum_two_arrays(matrix_c,matrix_e))"
   ]
  },
  {
   "cell_type": "markdown",
   "id": "serious-accused",
   "metadata": {},
   "source": [
    "### 2. R/"
   ]
  },
  {
   "cell_type": "code",
   "execution_count": 2,
   "id": "golden-protection",
   "metadata": {},
   "outputs": [
    {
     "name": "stdout",
     "output_type": "stream",
     "text": [
      "[[4, 16, 12, -4], [-34, -26, 11, 3], [-2, 14, -14, 0], [22, 22, 2, -25]]\n"
     ]
    }
   ],
   "source": [
    "def vector_of_zeros(length=0):\n",
    "    if length <= 0:\n",
    "        return None\n",
    "    vector = []\n",
    "    for element in range(length):\n",
    "        vector.append(0)\n",
    "    return vector\n",
    "\n",
    "def array_of_zeros(number_rows=0,number_columns=0):    \n",
    "    if number_rows <= 0 or number_columns <= 0:\n",
    "        return None    \n",
    "    rows = range(number_rows)\n",
    "    array = []\n",
    "    for row in rows:\n",
    "        array.append(vector_of_zeros(number_columns))\n",
    "    return array\n",
    "\n",
    "def get_array_column(array,column_number):    \n",
    "    if is_array(array) and column_number >= 0:  \n",
    "        rows,columns = array_size(array)\n",
    "        if  column_number < columns:\n",
    "            column = []\n",
    "            for row in range(rows):\n",
    "                column.append(array[row][column_number])\n",
    "            return column\n",
    "    return None\n",
    "\n",
    "def vectors_with_same_size(vector_one,vector_two):\n",
    "    return True if len(vector_one) == len(vector_two) else False\n",
    "\n",
    "def multiply_two_vectors_item_by_item(vector_one,vector_two):\n",
    "    result = []\n",
    "    if vectors_with_same_size(vector_one,vector_two):\n",
    "        vector_size = len(vector_one)        \n",
    "        for key in range(vector_size):\n",
    "            result.append(vector_one[key]*vector_two[key])\n",
    "        return result\n",
    "    return None\n",
    "\n",
    "def multiply_two_arrays(array_one,array_two):\n",
    "    if is_array(array_one) and is_array(array_two):\n",
    "        rows_array_one,columns_array_one = array_size(array_one)\n",
    "        rows_array_two,columns_array_two = array_size(array_two)\n",
    "        can_multiply = (columns_array_one == rows_array_two)\n",
    "        if can_multiply:\n",
    "            rows_result = range(rows_array_one)\n",
    "            columns_result = range(columns_array_two)\n",
    "            result = array_of_zeros(rows_array_one,columns_array_two)\n",
    "            for column in columns_result:\n",
    "                for row in rows_result:\n",
    "                    array_two_column = get_array_column(array_two,column)\n",
    "                    result[row][column] = sum(multiply_two_vectors_item_by_item(array_one[row],array_two_column))\n",
    "            return result\n",
    "    return None\n",
    "\n",
    "array_A = [[0,4,3,3],[-4,5,-2,-2],[-5,-5,2,-1],[-1,-3,5,-1]]\n",
    "array_B = [[4,0,1,-2],[-2,-2,3,-1],[4,4,2,-5],[0,4,-2,5]]\n",
    "print(multiply_two_arrays(array_A,array_B))"
   ]
  },
  {
   "cell_type": "markdown",
   "id": "liberal-ceremony",
   "metadata": {},
   "source": [
    "### 3. R/"
   ]
  },
  {
   "cell_type": "code",
   "execution_count": 3,
   "id": "great-delight",
   "metadata": {},
   "outputs": [
    {
     "name": "stdout",
     "output_type": "stream",
     "text": [
      "15\n",
      "None\n",
      "None\n",
      "150\n",
      "None\n"
     ]
    }
   ],
   "source": [
    "def sum_items_in_array_column(array,column_number):\n",
    "    column = get_array_column(array,column_number)\n",
    "    if column != None:\n",
    "        column_length = len(column)\n",
    "        result = 0\n",
    "        for element in column:\n",
    "            result += element\n",
    "        return result\n",
    "    return None\n",
    "\n",
    "array_C = [[1,2,3],[4,5,6],[7,8,9]]\n",
    "array_D = [[1,1,234,23],[1,1,45,56],[2,2,45,56],[2,2,12,15]]\n",
    "array_E = [[1,3],[1,1,45],[6,33],[2,12]]\n",
    "\n",
    "print(sum_items_in_array_column(array_C,1))\n",
    "print(sum_items_in_array_column(array_C,-1))\n",
    "print(sum_items_in_array_column(array_C,3))\n",
    "print(sum_items_in_array_column(array_D,3))\n",
    "print(sum_items_in_array_column(array_E,0))"
   ]
  },
  {
   "cell_type": "markdown",
   "id": "macro-alcohol",
   "metadata": {},
   "source": [
    "### 4. R/"
   ]
  },
  {
   "cell_type": "code",
   "execution_count": 4,
   "id": "processed-bibliography",
   "metadata": {},
   "outputs": [
    {
     "name": "stdout",
     "output_type": "stream",
     "text": [
      "15\n",
      "None\n",
      "None\n",
      "6\n",
      "None\n"
     ]
    }
   ],
   "source": [
    "def get_array_row(array,row_number):\n",
    "    if is_array(array) and row_number >= 0: \n",
    "        rows,columns = array_size(array)\n",
    "        if  row_number < rows:\n",
    "            return array[row_number]\n",
    "    return None\n",
    "\n",
    "def sum_items_in_array_row(array,column_number):\n",
    "    row = get_array_row(array,column_number)\n",
    "    if row != None:\n",
    "        row_length = len(row)\n",
    "        result = 0\n",
    "        for element in row:\n",
    "            result += element\n",
    "        return result\n",
    "    return None\n",
    "\n",
    "array_F = [[1,2,3],[4,5,6],[7,8,9]]\n",
    "array_G = [[1,2,3],[4,5,6,2]]\n",
    "\n",
    "print(sum_items_in_array_row(array_F,1))\n",
    "print(sum_items_in_array_row(array_F,-1))\n",
    "print(sum_items_in_array_row(array_F,3))\n",
    "print(sum_items_in_array_row(array_F,0))\n",
    "print(sum_items_in_array_row(array_G,1))"
   ]
  },
  {
   "cell_type": "code",
   "execution_count": 7,
   "id": "rational-commodity",
   "metadata": {},
   "outputs": [
    {
     "name": "stdout",
     "output_type": "stream",
     "text": [
      "True\n",
      "True\n",
      "False\n",
      "False\n"
     ]
    }
   ],
   "source": [
    "def get_diagonal_items_in_array(array,diagonal=0):\n",
    "    if is_array(array):\n",
    "        rows,columns = array_size(array)\n",
    "        if rows == columns:\n",
    "            result = []\n",
    "            if diagonal == 0:\n",
    "                for row in range(rows):\n",
    "                    result.append(array[row][row])                \n",
    "            else:\n",
    "                for row in range(rows):\n",
    "                    result.append(array[row][rows-(row+1)])\n",
    "            return result\n",
    "    return None\n",
    "            \n",
    "\n",
    "def is_magic_array(array):\n",
    "    if is_array(array):\n",
    "        rows,columns = array_size(array)\n",
    "        if rows == columns:\n",
    "            last_sum = 0\n",
    "            actual_sum = 0\n",
    "            for row in range(rows):\n",
    "                if row == 0:\n",
    "                    last_sum = sum_items_in_array_row(array,row)\n",
    "                    continue\n",
    "                actual_sum = sum_items_in_array_row(array,row)\n",
    "                if actual_sum != last_sum:\n",
    "                    return False\n",
    "                last_sum = actual_sum\n",
    "            for column in range(columns):\n",
    "                actual_sum = sum_items_in_array_column(array,column)\n",
    "                if actual_sum != last_sum:\n",
    "                    return False\n",
    "                last_sum = actual_sum     \n",
    "            for diagonal in range(2):\n",
    "                actual_sum = sum(get_diagonal_items_in_array(array,diagonal))\n",
    "                if actual_sum != last_sum:\n",
    "                    return False\n",
    "                last_sum = actual_sum \n",
    "            return True        \n",
    "    return False\n",
    "\n",
    "magic_array_A = [[8,1,6],[3,5,7],[4,9,2]]\n",
    "magic_array_B = [[1,1,1,1],[1,1,1,1],[1,1,1,1],[1,1,1,1]]\n",
    "not_magic_array_A = [[1,2,3],[5,6,7]]\n",
    "not_magic_array_B = [[1,2,3],[3,2,1],[7,8,9]]\n",
    "\n",
    "print(is_magic_array(magic_array_A))\n",
    "print(is_magic_array(magic_array_B))\n",
    "print(is_magic_array(not_magic_array_A))\n",
    "print(is_magic_array(not_magic_array_B))"
   ]
  }
 ],
 "metadata": {
  "kernelspec": {
   "display_name": "Python 3",
   "language": "python",
   "name": "python3"
  },
  "language_info": {
   "codemirror_mode": {
    "name": "ipython",
    "version": 3
   },
   "file_extension": ".py",
   "mimetype": "text/x-python",
   "name": "python",
   "nbconvert_exporter": "python",
   "pygments_lexer": "ipython3",
   "version": "3.8.5"
  }
 },
 "nbformat": 4,
 "nbformat_minor": 5
}
