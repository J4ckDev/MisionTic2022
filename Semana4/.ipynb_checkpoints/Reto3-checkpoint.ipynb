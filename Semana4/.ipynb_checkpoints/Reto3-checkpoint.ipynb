{
 "cells": [
  {
   "cell_type": "markdown",
   "id": "hungarian-vanilla",
   "metadata": {},
   "source": [
    "# ArpaLlanera Hero Pro\n",
    "\n",
    "James Hammett y Kirk Hetfield ya están en Colombia, y su juego ArpaLlanera Hero ha sido todo un éxito. Sin embargo, el juego se les está haciendo un poco predecible y repetitivo, así que deciden consultar a Cliff Newsted y a Lars Trujillo por alguna idea innovadora para sacar la versión Pro del video juego. Éstos deciden sentarse a estudiar escalas y entrenar el oído musical, y se les ocurre una variación del juego para hacerlo más entretenido.\n",
    "\n",
    "La dinámica del nuevo componente es la siguiente: en el juego van a sonar una serie de cuerdas, una cuerda a la vez, y cada cuerda asociada a una letra distinta del alfabeto; lamentablemente, el sonido algunas veces no suena con calidad perfecta, así que el sonido de la cuerda puede llegar representado por la letra del alfabeto en minúscula o en mayúscula. La idea es que la persona luego de escuchar la sucesión de sonidos, determine en primera instancia cuál cuerda sonó y cuántas veces sono la misma cuerda de manera consecutiva.\n",
    "\n",
    "Un ejemplo sencillo de ésta dinámica se puede hacer con la canción “Master of Python”, que inicia con la secuencia: E,E,e,E,E,d,E,E,D,c,C. En este caso, los sonidos inferidos serán E (con cinco repeticiones), D (con una repetición), E (con dos repeticiones), D (con una repetición), y C (con dos repeticiones).\n",
    "\n",
    "Como usted cumple ahora dos roles, \"jalacables\" y programador, decide construir un programa que resuelve la extensión propuesta. En este caso, usted va a hacer un programa que recibe la sucesión de cuerdas que está escuchando (y adivinando) el jugador, que puede estar en minúscula o en mayúscula, y cada sonido separado por coma. La salida debe ser en primera instancia la sucesión de cuerdas, representadas en mayúscula, sin tener en cuenta los sonidos repetidos, y debajo de cada cuerda, la cantidad de veces que sonó esta de manera consecutiva.\n",
    "\n",
    "- **Entrada**  \n",
    "La entrada consta de una sucesión de caracteres separados por coma que corresponden a las cuerdas asociadas a los sonidos determinados por el jugador.\n",
    "\n",
    "- **Salida**  \n",
    "La salida consta de dos líneas: la primera es la sucesión de sonidos de cuerdas sin repeticiones, en mayúscula y separadas por espacio; la segunda es la cantidad de veces que se repitió cada sonido de cuerda de manera consecutiva, separado también por espacio.\n",
    "- **Ejemplo**\n",
    "|Entrada|Salida|\n",
    "|:------|:-----|\n",
    "|E,E,e,E,E,d,E,E,D,c,C,E,E,B,E,E,a,E,A,E,g,E,G,E,f,E|E D E D C E B E A E A E G E G E F E|\n",
    "||5 1 2 1 2 2 1 2 1 1 1 1 1 1 1 1 1 1|\n",
    "\n",
    "## Solución"
   ]
  },
  {
   "cell_type": "code",
   "execution_count": 7,
   "id": "minimal-sugar",
   "metadata": {},
   "outputs": [
    {
     "name": "stdout",
     "output_type": "stream",
     "text": [
      "Ingrese la sucesión de cuerdas separadas por coma: E,E,e,E,E,d,E,E,D,c,C,E,E,B,E,E,a,E,A,E,g,E,G,E,f,E\n",
      "E D E D C E B E A E A E G E G E F E\n",
      "5 1 2 1 2 2 1 2 1 1 1 1 1 1 1 1 1 1\n"
     ]
    }
   ],
   "source": [
    "cuerdas = input(\"Ingrese la sucesión de cuerdas separadas por coma: \")\n",
    "cuerdas = cuerdas.upper()\n",
    "cuerdas = cuerdas.split(\",\")\n",
    "total_cuerdas = len(cuerdas)\n",
    "cuerda_actual = \"\"\n",
    "cuerda_anterior = \"\"\n",
    "repeticiones = 0\n",
    "resultado_cuerdas = \"\"\n",
    "resultado_repeticiones = \"\"\n",
    "for numero_cuerda in range(total_cuerdas):\n",
    "    if numero_cuerda == 0:\n",
    "        cuerda_anterior = cuerdas[numero_cuerda]\n",
    "        repeticiones += 1\n",
    "        continue\n",
    "    else:\n",
    "        cuerda_actual = cuerdas[numero_cuerda]\n",
    "        if cuerda_actual == cuerda_anterior:\n",
    "            repeticiones += 1            \n",
    "        else:\n",
    "            resultado_cuerdas += f\"{cuerda_anterior} \"\n",
    "            resultado_repeticiones += f\"{repeticiones} \"\n",
    "            repeticiones = 1\n",
    "        cuerda_anterior = cuerda_actual\n",
    "        if numero_cuerda == total_cuerdas-1:\n",
    "            resultado_cuerdas += cuerda_anterior\n",
    "            resultado_repeticiones += str(repeticiones)\n",
    "            \n",
    "print(resultado_cuerdas)\n",
    "print(resultado_repeticiones)    "
   ]
  }
 ],
 "metadata": {
  "kernelspec": {
   "display_name": "Python 3",
   "language": "python",
   "name": "python3"
  },
  "language_info": {
   "codemirror_mode": {
    "name": "ipython",
    "version": 3
   },
   "file_extension": ".py",
   "mimetype": "text/x-python",
   "name": "python",
   "nbconvert_exporter": "python",
   "pygments_lexer": "ipython3",
   "version": "3.8.5"
  }
 },
 "nbformat": 4,
 "nbformat_minor": 5
}
