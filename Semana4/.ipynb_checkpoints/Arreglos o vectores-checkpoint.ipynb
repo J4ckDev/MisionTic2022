{
 "cells": [
  {
   "cell_type": "markdown",
   "id": "experienced-retirement",
   "metadata": {},
   "source": [
    "# Problemas\n",
    "\n",
    "1. Desarrollar un algoritmo que calcule el promedio de un arreglo de reales sin usar *sum()* ni *len()*.\n",
    "2. Desarrollar un algoritmo que calcule el producto punto de dos arreglos de números enteros (reales) de igual tamaño. Sean $v=[v_0,v_1,...,v_{n−1}]$ y $w=[w_0,w_1,...,w_{n−1}]$ dos arreglos, el producto de $v$ y $w$ (notado $v·w$) es el número: $v_0∗w_0+v_1∗w_1+···+v_{n−1}∗w_{n−1}$.\n",
    "3. Desarrollar un algoritmo que calcule el producto directo de dos arreglos de números enteros (reales) de igual tamaño. Sean $v=[v_0,v_1,...,v_{n−1}]$ y $w=[w_0,w_1,...,w_{n−1}]$ dos arreglos, el producto directo de $v$ y $w$ (notado $v∗w$) es el vector: $[v_0∗w_0,v_1∗w_1,...,v_{n−1}∗w_{n−1}]$.\n",
    "4. Desarrollar un algoritmo que determine la mediana de un arreglo de enteros. La mediana es el número que queda en la mitad del arreglo después de ser ordenado.\n",
    "5. Hacer un algoritmo que deje al final de un arreglo de números todos los ceros que aparezcan en dicho arreglo.  \n",
    "    \n",
    "    **Ejemplos**  \n",
    "    \n",
    "    - *vector original:* \\[1,6,0,7,-3,8,0,-2,11\\]  \n",
    "      *vector salida:* \\[1,6,7,-3,8,-2,11,0,0\\]    \n",
    "      \n",
    "    - *vector original:* \\[0,11,36,10,0,17,−23,81,0,0,12,11,0\\]  \n",
    "      *vector salida:* \\[11,36,10,17,−23,81,12,11,0,0,0,0,0\\]\n",
    "    \n",
    "## Soluciones\n",
    "\n",
    "### 1. R/"
   ]
  },
  {
   "cell_type": "code",
   "execution_count": 1,
   "id": "fatty-hudson",
   "metadata": {},
   "outputs": [
    {
     "name": "stdout",
     "output_type": "stream",
     "text": [
      "La media o promedio del vector [1.0, 2.0, 3.0, 4.0, 5.0, 6.0] es: 3.5\n"
     ]
    }
   ],
   "source": [
    "def mean(numbers):\n",
    "    total_numbers = 0\n",
    "    total_sum = 0\n",
    "    for number in numbers:\n",
    "        total_numbers +=1\n",
    "        total_sum += number\n",
    "    return total_sum/total_numbers\n",
    "\n",
    "numbers = [1.0,2.0,3.0,4.0,5.0,6.0]\n",
    "print(f\"La media o promedio del vector {numbers} es: {mean(numbers)}\")"
   ]
  },
  {
   "cell_type": "markdown",
   "id": "seventh-origin",
   "metadata": {},
   "source": [
    "### 2. R/"
   ]
  },
  {
   "cell_type": "code",
   "execution_count": 2,
   "id": "cheap-terminology",
   "metadata": {},
   "outputs": [
    {
     "name": "stdout",
     "output_type": "stream",
     "text": [
      "El resultado del producto punto entre los dos vectores es 12\n",
      "No se puede hacer el producto punto con vectores de diferente tamaño :(\n"
     ]
    }
   ],
   "source": [
    "def have_same_size(vector_one,vector_two):\n",
    "    return True if len(vector_one) == len(vector_two) else False\n",
    "\n",
    "def dot_product(vector_one,vector_two):\n",
    "    result = 0\n",
    "    if have_same_size(vector_one,vector_two):\n",
    "        vector_size = len(vector_one)        \n",
    "        for key in range(vector_size):\n",
    "            result += vector_one[key]*vector_two[key]\n",
    "        return f\"El resultado del producto punto entre los dos vectores es {result}\"\n",
    "    return f\"No se puede hacer el producto punto con vectores de diferente tamaño :(\"\n",
    "\n",
    "first_vector = [3,5,2]\n",
    "second_vector = [-1,3,0]\n",
    "third_vector = [1,2,3,4]\n",
    "\n",
    "print(dot_product(first_vector,second_vector))\n",
    "print(dot_product(first_vector,third_vector))"
   ]
  },
  {
   "cell_type": "markdown",
   "id": "centered-temple",
   "metadata": {},
   "source": [
    "### 3. R/"
   ]
  },
  {
   "cell_type": "code",
   "execution_count": 3,
   "id": "filled-statement",
   "metadata": {},
   "outputs": [
    {
     "name": "stdout",
     "output_type": "stream",
     "text": [
      "El resultado del producto punto entre los dos vectores es [3, 4, 3]\n",
      "No se puede hacer el producto punto con vectores de diferente tamaño :(\n"
     ]
    }
   ],
   "source": [
    "def direct_product(vector_one,vector_two):\n",
    "    result = []\n",
    "    if have_same_size(vector_one,vector_two):\n",
    "        vector_size = len(vector_one)        \n",
    "        for key in range(vector_size):\n",
    "            result.append(vector_one[key]*vector_two[key])\n",
    "        return f\"El resultado del producto punto entre los dos vectores es {result}\"\n",
    "    return f\"No se puede hacer el producto punto con vectores de diferente tamaño :(\"\n",
    "\n",
    "first_vector = [1,2,3]\n",
    "second_vector = [3,2,1]\n",
    "third_vector = [9,2,3,4]\n",
    "\n",
    "print(direct_product(first_vector,second_vector))\n",
    "print(direct_product(first_vector,third_vector))"
   ]
  },
  {
   "cell_type": "markdown",
   "id": "composed-example",
   "metadata": {},
   "source": [
    "### 4. R/"
   ]
  },
  {
   "cell_type": "code",
   "execution_count": 4,
   "id": "chicken-modification",
   "metadata": {},
   "outputs": [
    {
     "name": "stdout",
     "output_type": "stream",
     "text": [
      "La media de [10, 5, 7, 3, 2, 3] es 4.0\n",
      "La media de [10, 7, 9, 27, 0, 4] es 8.0\n",
      "La media de [17, 4, 5, 7, 9, 11, 12] es 9\n"
     ]
    }
   ],
   "source": [
    "def median(numbers):\n",
    "    numbers.sort()\n",
    "    vector_size = len(numbers)\n",
    "    center_number = vector_size//2\n",
    "    if vector_size % 2 == 0:\n",
    "        return (numbers[center_number-1] + numbers[center_number])/2\n",
    "    else: \n",
    "        return  numbers[center_number]\n",
    "    \n",
    "list_numbers = [10,5,7,3,2,3]\n",
    "list_numbers_two = [10,7,9,27,0,4]\n",
    "list_numbers_three = [17,4,5,7,9,11,12]\n",
    "\n",
    "print(f\"La media de {list_numbers} es {median(list_numbers)}\")\n",
    "print(f\"La media de {list_numbers_two} es {median(list_numbers_two)}\")\n",
    "print(f\"La media de {list_numbers_three} es {median(list_numbers_three)}\")"
   ]
  },
  {
   "cell_type": "markdown",
   "id": "literary-caution",
   "metadata": {},
   "source": [
    "### 5. R/"
   ]
  },
  {
   "cell_type": "code",
   "execution_count": 5,
   "id": "dying-textbook",
   "metadata": {},
   "outputs": [
    {
     "name": "stdout",
     "output_type": "stream",
     "text": [
      "vector original: [1, 6, 0, 7, -3, 8, 0, -2, 11]\n",
      "vector salida: [1, 6, 7, -3, 8, -2, 11, 0, 0]\n",
      "vector original: [0, 11, 36, 10, 0, 17, -23, 81, 0, 0, 12, 11, 0]\n",
      "vector salida: [11, 36, 10, 17, -23, 81, 12, 11, 0, 0, 0, 0, 0]\n"
     ]
    }
   ],
   "source": [
    "def move_zeros(vector):\n",
    "    zeros = []\n",
    "    for element in vector:\n",
    "        if element == 0:\n",
    "            vector.remove(0)\n",
    "            zeros.append(0)\n",
    "    return vector+zeros\n",
    "\n",
    "vector_one = [1,6,0,7,-3,8,0,-2,11]\n",
    "vector_two = [0,11,36,10,0,17,-23,81,0,0,12,11,0]\n",
    "\n",
    "print(f\"vector original: {vector_one}\")\n",
    "print(f\"vector salida: {move_zeros(vector_one)}\")\n",
    "print(f\"vector original: {vector_two}\")\n",
    "print(f\"vector salida: {move_zeros(vector_two)}\")"
   ]
  }
 ],
 "metadata": {
  "kernelspec": {
   "display_name": "Python 3",
   "language": "python",
   "name": "python3"
  },
  "language_info": {
   "codemirror_mode": {
    "name": "ipython",
    "version": 3
   },
   "file_extension": ".py",
   "mimetype": "text/x-python",
   "name": "python",
   "nbconvert_exporter": "python",
   "pygments_lexer": "ipython3",
   "version": "3.8.5"
  }
 },
 "nbformat": 4,
 "nbformat_minor": 5
}
