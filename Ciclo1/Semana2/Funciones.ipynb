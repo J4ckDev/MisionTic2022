{
 "cells": [
  {
   "cell_type": "markdown",
   "id": "black-spotlight",
   "metadata": {},
   "source": [
    "# Problemas"
   ]
  },
  {
   "cell_type": "markdown",
   "id": "stupid-productivity",
   "metadata": {},
   "source": [
    "1. Para el sólido de la imagen, establezca un modelo matemático que permita calcular el volumen del solido. Use la constante matemática *pi* del módulo *math*.\n",
    "\n",
    "![Solido del problema](https://i.pinimg.com/originals/18/df/4a/18df4ae5cadfc8fdc4be264a97cf8226.png)\n",
    "\n",
    "2. Para el vagón de la imagen, establezca un modelo matemático que permita calcular el área lateral del vagón. Use la constante matemática *pi* del módulo *math*.\n",
    "\n",
    "![Vagón del problema](https://i.pinimg.com/originals/10/73/95/107395a0f9358654a13c706132afeb68.png)\n",
    "\n",
    "3. Para el carro de la imagen, establezca un modelo matemático que permita calcular el área lateral del carro.\n",
    "\n",
    "![Carro del problema](https://i.pinimg.com/originals/60/d7/9e/60d79ee7fca32de58fb256983b7b5fe3.png)\n",
    "\n",
    "4. Diseñe una función que calcule la cantidad de carne de aves en kilos si se tienen *N* gallinas, *M* gallos y *K* pollitos cada uno pesando 6 kilos, 7 kilos y un kilo respectivamente.\n",
    "\n",
    "5. Mi mamá me manda a comprar *P* panes a 300 pesos cada uno, *M* bolsas de leche a 3300 pesos cada una y *H* huevos a 350  pesos cada uno. Hacer un programa que me diga las vueltas (o lo que quedo debiendo) cuando me da un billete de *B* pesos.\n",
    "\n",
    "6. Si pido prestados P cantidad de pesos para pagarlos en dos meses, si el interés del préstamo es del 3%. ¿Cuánto se debe pagar al final del segundo mes si el interés es compuesto mensualmente?.\n",
    "\n",
    "7. El número de contagiados de Covid-19 en el paı́s de NuncaLandia se duplica cada dı́a. Hacer un programa que diga el número total de personas que se han contagiado cuando pasen D dı́as a partir de hoy, si el número de contagiados actuales es C ."
   ]
  },
  {
   "cell_type": "markdown",
   "id": "chief-convert",
   "metadata": {},
   "source": [
    "# Soluciones\n",
    "\n",
    "## 1. R/"
   ]
  },
  {
   "cell_type": "code",
   "execution_count": 19,
   "id": "genuine-machine",
   "metadata": {},
   "outputs": [
    {
     "name": "stdout",
     "output_type": "stream",
     "text": [
      "Ingresa el radio de la esfera: 3\n",
      "Ingresa el radio del cono: 4\n",
      "Ingresa la altura del cono: 4.5\n"
     ]
    },
    {
     "data": {
      "text/plain": [
       "'El volúmen del sólido es: 188.49555921538757'"
      ]
     },
     "execution_count": 19,
     "metadata": {},
     "output_type": "execute_result"
    }
   ],
   "source": [
    "from math import pi\n",
    "\n",
    "def sphere_volume(radius):\n",
    "    return (4*pi*radius**3)/3\n",
    "\n",
    "def cone_volume(radius,height):\n",
    "    return (pi*radius**2*height)/3\n",
    "\n",
    "radius_sphere = float(input(\"Ingresa el radio de la esfera: \"))\n",
    "radius_cone = float(input(\"Ingresa el radio del cono: \"))\n",
    "height_cone = float(input(\"Ingresa la altura del cono: \"))\n",
    "\n",
    "total_volume = sphere_volume(radius_sphere) + cone_volume(radius_cone,height_cone)\n",
    "\n",
    "f\"El volúmen del sólido es: {total_volume}\""
   ]
  },
  {
   "cell_type": "markdown",
   "id": "young-deputy",
   "metadata": {},
   "source": [
    "## 2. R/"
   ]
  },
  {
   "cell_type": "code",
   "execution_count": 25,
   "id": "alert-identification",
   "metadata": {},
   "outputs": [
    {
     "name": "stdout",
     "output_type": "stream",
     "text": [
      "Ingresa el radio de las llantas: 5\n",
      "Ingresa el tamaño de la base del vagón: 5\n",
      "Ingresa la altura del vagón: 5\n"
     ]
    },
    {
     "data": {
      "text/plain": [
       "'El área del vagón es: 182.07963267948966'"
      ]
     },
     "execution_count": 25,
     "metadata": {},
     "output_type": "execute_result"
    }
   ],
   "source": [
    "def circle_area(radius):\n",
    "    return pi*radius**2\n",
    "\n",
    "def rectangle_area(base,height):\n",
    "    return base*height\n",
    "\n",
    "tires_radius = float(input(\"Ingresa el radio de las llantas: \"))\n",
    "wagon_base = float(input(\"Ingresa el tamaño de la base del vagón: \"))\n",
    "wagon_height = float(input(\"Ingresa la altura del vagón: \"))\n",
    "\n",
    "total_area = 2 * circle_area(tires_radius) + rectangle_area(wagon_base,wagon_height)\n",
    "\n",
    "f\"El área del vagón es: {total_area}\""
   ]
  },
  {
   "cell_type": "markdown",
   "id": "laughing-hepatitis",
   "metadata": {},
   "source": [
    "## 3. R/"
   ]
  },
  {
   "cell_type": "code",
   "execution_count": 32,
   "id": "distributed-tourism",
   "metadata": {},
   "outputs": [
    {
     "name": "stdout",
     "output_type": "stream",
     "text": [
      "Ingresa el radio de la llanta grande: 5\n",
      "Ingresa el radio de la llanta pequeña: 10\n",
      "Ingresa el tamaño de la base superior del carro: 8\n",
      "Ingresa la altura de la parte superior del carro: 4\n",
      "Ingresa el tamaño de la base inferior del carro: 15\n",
      "Ingresa la altura de la parte inferior del carro: 4\n"
     ]
    },
    {
     "data": {
      "text/plain": [
       "'El área del carro es: 484.69908169872417'"
      ]
     },
     "execution_count": 32,
     "metadata": {},
     "output_type": "execute_result"
    }
   ],
   "source": [
    "radius_large_tire = float(input(\"Ingresa el radio de la llanta grande: \"))\n",
    "radius_small_tire = float(input(\"Ingresa el radio de la llanta pequeña: \"))\n",
    "top_car_base = float(input(\"Ingresa el tamaño de la base superior del carro: \"))\n",
    "top_car_height = float(input(\"Ingresa la altura de la parte superior del carro: \"))\n",
    "bottom_car_base = float(input(\"Ingresa el tamaño de la base inferior del carro: \"))\n",
    "bottom_car_height = float(input(\"Ingresa la altura de la parte inferior del carro: \"))\n",
    "\n",
    "total_car_area = circle_area(radius_large_tire) + circle_area(radius_small_tire) + \\\n",
    "                 rectangle_area(top_car_base,top_car_height) + rectangle_area(bottom_car_base,bottom_car_height)\n",
    "\n",
    "f\"El área del carro es: {total_car_area}\""
   ]
  },
  {
   "cell_type": "markdown",
   "id": "unique-terminal",
   "metadata": {},
   "source": [
    "## 4. R/"
   ]
  },
  {
   "cell_type": "code",
   "execution_count": 34,
   "id": "engaging-fleet",
   "metadata": {},
   "outputs": [
    {
     "name": "stdout",
     "output_type": "stream",
     "text": [
      "Ingrese el número de gallinas: 5\n",
      "Ingrese el número de gallos: 5\n",
      "Ingrese el número de pollitos : 5\n"
     ]
    },
    {
     "data": {
      "text/plain": [
       "'El total de carne de aves es de 70 kilos.'"
      ]
     },
     "execution_count": 34,
     "metadata": {},
     "output_type": "execute_result"
    }
   ],
   "source": [
    "def chicken(hens,roosters,chicks):\n",
    "    return hens*6 + roosters*7 + chicks*1\n",
    "\n",
    "hens = int(input(\"Ingrese el número de gallinas: \"))\n",
    "roosters = int(input(\"Ingrese el número de gallos: \"))\n",
    "chicks = int(input(\"Ingrese el número de pollitos : \"))\n",
    "\n",
    "total_meat = chicken(hens,roosters,chicks)\n",
    "\n",
    "f\"El total de carne de aves es de {total_meat} kilos.\""
   ]
  },
  {
   "cell_type": "markdown",
   "id": "unsigned-share",
   "metadata": {},
   "source": [
    "## 5. R/"
   ]
  },
  {
   "cell_type": "code",
   "execution_count": 42,
   "id": "collect-state",
   "metadata": {},
   "outputs": [
    {
     "name": "stdout",
     "output_type": "stream",
     "text": [
      "Ingrese el valor del billete: 50000\n",
      "Ingresa el número de panes a comprar: 15\n",
      "Ingresa el número de bolsas de lechea comprar: 10\n",
      "Ingresa el número de huevos a comprar: 20\n"
     ]
    },
    {
     "data": {
      "text/plain": [
       "'El total de la compra es de 44500 pesos y tu devuelto es 5500 pesos.'"
      ]
     },
     "execution_count": 42,
     "metadata": {},
     "output_type": "execute_result"
    }
   ],
   "source": [
    "def buy_food(breads,milk_bags,eggs):\n",
    "    return breads*300 + milk_bags*3300 + eggs*350\n",
    "\n",
    "money = int(input(\"Ingrese el valor del billete: \"))\n",
    "breads = int(input(\"Ingresa el número de panes a comprar: \"))\n",
    "milk_bags = int(input(\"Ingresa el número de bolsas de leche a comprar: \"))\n",
    "eggs = int(input(\"Ingresa el número de huevos a comprar: \"))\n",
    "\n",
    "total_to_pay = buy_food(breads,milk_bags,eggs)\n",
    "change = money - total_to_pay\n",
    "message = f\"quedas debiendo {abs(change)}.\" if change < 0 else f\"tu devuelto es {change}\"\n",
    "\n",
    "f\"El total de la compra es de {total_to_pay} pesos y {message} pesos.\""
   ]
  },
  {
   "cell_type": "markdown",
   "id": "plain-enough",
   "metadata": {},
   "source": [
    "## 6. R/"
   ]
  },
  {
   "cell_type": "code",
   "execution_count": 55,
   "id": "delayed-arbor",
   "metadata": {},
   "outputs": [
    {
     "name": "stdout",
     "output_type": "stream",
     "text": [
      "Ingrese la cantidad de dinero que solicitó prestado por dos meses: 500\n"
     ]
    },
    {
     "data": {
      "text/plain": [
       "'Al final del segundo mes deberás pagar 530.4499999999999 pesos'"
      ]
     },
     "execution_count": 55,
     "metadata": {},
     "output_type": "execute_result"
    }
   ],
   "source": [
    "def money_to_pay(borrowed_money):\n",
    "    return borrowed_money*((1+0.03)**2)\n",
    "\n",
    "borrowed_money = int(input(\"Ingrese la cantidad de dinero que solicitó prestado por dos meses: \"))\n",
    "\n",
    "f\"Al final del segundo mes deberás pagar {money_to_pay(borrowed_money)} pesos\""
   ]
  },
  {
   "cell_type": "markdown",
   "id": "extra-gilbert",
   "metadata": {},
   "source": [
    "## 7. R/"
   ]
  },
  {
   "cell_type": "code",
   "execution_count": 45,
   "id": "contained-threshold",
   "metadata": {},
   "outputs": [
    {
     "name": "stdout",
     "output_type": "stream",
     "text": [
      "Ingrese el número actual de contagiados de Covid-19: 5\n",
      "Ingresa el número de días para conocer el total de contagiados en ese momento: 10\n"
     ]
    },
    {
     "data": {
      "text/plain": [
       "'El total de contagiados para el día 10 es de 2560.'"
      ]
     },
     "execution_count": 45,
     "metadata": {},
     "output_type": "execute_result"
    }
   ],
   "source": [
    "def total_infected(actual_infected,days):\n",
    "    return 2**(days-1)*actual_infected\n",
    "\n",
    "actual_infected = int(input(\"Ingrese el número actual de contagiados de Covid-19: \"))\n",
    "days = int(input(\"Ingresa el número de días para conocer el total de contagiados en ese momento: \"))\n",
    "\n",
    "total = total_infected(actual_infected,days)\n",
    "\n",
    "f\"El total de contagiados para el día {days} es de {total}.\""
   ]
  }
 ],
 "metadata": {
  "kernelspec": {
   "display_name": "Python 3",
   "language": "python",
   "name": "python3"
  },
  "language_info": {
   "codemirror_mode": {
    "name": "ipython",
    "version": 3
   },
   "file_extension": ".py",
   "mimetype": "text/x-python",
   "name": "python",
   "nbconvert_exporter": "python",
   "pygments_lexer": "ipython3",
   "version": "3.8.10"
  }
 },
 "nbformat": 4,
 "nbformat_minor": 5
}
