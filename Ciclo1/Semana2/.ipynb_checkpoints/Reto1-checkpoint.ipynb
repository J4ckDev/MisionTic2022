{
 "cells": [
  {
   "cell_type": "markdown",
   "id": "changed-exhibition",
   "metadata": {},
   "source": [
    "# Problema\n",
    "\n",
    "Al quitarle cuatro años a la edad de Hugo se obtiene dos veces la edad de Paco y si sumamos las edades de Hugo y Paco se obtiene cinco veces la edad de Luis (todos en años enteros). En el país del Sagrado Corazón de Jesús se dice que una persona está en etapa 'uno' si está entre 0 y 20 años, en etapa 'dos' si está entre 21 y 30 años, en etapa 'tres si está entre 31 y 50 años y en etapa 'cuatro' si está por encima de 50 años. Dada la edad de Paco, realizar un programa que imprima en la primera línea las edades de Paco, Hugo y Luis separadas por un solo espacio y en la segunda línea indique en qué etapa se encuentra Luis.\n",
    "\n",
    "- **Entrada:** Un número entero que representa la edad de Paco\n",
    "- **Salida:** En la primera línea tres números enteros separados por espacio que representan las edades de Paco, Hugo y Luis separadas por un solo espacio. En la segunda línea se debe indicar en qué etapa se encuentra Luis escrita en letras minúsculas.\n",
    "- **Ejemplo** Entrada 78, la salida será 78 160 47 tres\n",
    "\n",
    "## Solución"
   ]
  },
  {
   "cell_type": "code",
   "execution_count": 9,
   "id": "obvious-idaho",
   "metadata": {},
   "outputs": [
    {
     "name": "stdout",
     "output_type": "stream",
     "text": [
      "Ingresar la edad de Paco: 78\n",
      "78 160 47\n",
      "tres\n"
     ]
    }
   ],
   "source": [
    "age_paco = int(input(\"Ingresar la edad de Paco: \"))\n",
    "age_hugo = 2*age_paco+4\n",
    "age_luis = int((age_hugo+age_paco)/5)\n",
    "stage = \"\"\n",
    "\n",
    "if (age_luis >= 0 and age_luis <= 20):\n",
    "    stage = \"uno\"\n",
    "elif (age_luis >= 21 and age_luis <= 30):\n",
    "    stage = \"dos\"\n",
    "elif (age_luis >= 31 and age_luis <= 50):\n",
    "    stage = \"tres\"\n",
    "else:\n",
    "    stage = \"cuatro\"\n",
    "\n",
    "print(f\"{age_paco} {age_hugo} {age_luis}\") \n",
    "print(stage)"
   ]
  }
 ],
 "metadata": {
  "kernelspec": {
   "display_name": "Python 3",
   "language": "python",
   "name": "python3"
  },
  "language_info": {
   "codemirror_mode": {
    "name": "ipython",
    "version": 3
   },
   "file_extension": ".py",
   "mimetype": "text/x-python",
   "name": "python",
   "nbconvert_exporter": "python",
   "pygments_lexer": "ipython3",
   "version": "3.8.5"
  }
 },
 "nbformat": 4,
 "nbformat_minor": 5
}
