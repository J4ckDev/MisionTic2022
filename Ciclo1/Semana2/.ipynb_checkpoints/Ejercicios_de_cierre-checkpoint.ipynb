{
 "cells": [
  {
   "cell_type": "markdown",
   "id": "sized-dialogue",
   "metadata": {},
   "source": [
    "# Problemas\n",
    "\n",
    "1. Si en la UN están podando árboles y cada rama tiene P hojas, y a cada árbol le quitaron K ramas, cuántos árboles se deben podar para obtener T hojas?.\n",
    "2. Si un amigo, no tan amigo, me presta K pesos a i pesos de interés diario, ¿cuánto le pagaré en una semana si el interés es simple?, ¿y cuánto si el interés es compuesto?.\n",
    "3. En una granja se crı́an un número de V - Vacas, A - Aves (pollos y gallinas) y E - escorpiones. Las vacas están encerradas en un corral de N × M metros cuadrados, las aves en un galpón y los escorpiones en vitrinas. Para cada subproblema utilice solo los datos que necesite\n",
    "    - Si una vaca necesita K metros cuadrados de pasto para producir X litros de leche por dı́a, ¿cuántos litros de leche se producen por semana en la granja?.\n",
    "\n",
    "    - Si 1/3 de las aves que hay en la granja son gallinas, y la mitad de las gallinas ponen 1 huevo cada 3 dı́as y la otra mitad 1 huevo cada 5 dı́as, ¿en un mes cuántos huevos producen? (1 mes ≡ 30 dı́as).\n",
    "\n",
    "    - Si los escorpiones de la granja se venden a China, y hay escorpiones de tres diferentes tamaños: pequeños (con un peso de 20 gramos), medianos (con un peso 30 gramos) y grandes (con un peso de 50 gramos), ¿cuántos kilos de escorpiones se pueden vender sin que decrezca la población a menos de 2/3?.\n",
    "    \n",
    "    - Al granjero se le daño el corral y no sabe si volver a cercar el corral con madera, alambre de púas o poner reja de metal. Si va a cercar con madera debe poner 4 hileras de tablas, con varilla 8 hileras y con alambre solo 5 hileras, él quiere saber que es lo menos costoso para cercar si sabe que el alambre de púas vale P por metro, las tablas a Q por metro y las varillas S por metro. Dado el tamaño del corral y los precios de los elementos, ¿cuál cerramiento es el más económico?.\n",
    "\n",
    "# Solución\n",
    "\n",
    "## 1. R/"
   ]
  },
  {
   "cell_type": "code",
   "execution_count": 9,
   "id": "direct-cover",
   "metadata": {},
   "outputs": [
    {
     "name": "stdout",
     "output_type": "stream",
     "text": [
      "Ingrese el número de hojas que tiene cada rama: 10\n",
      "Ingrese el número de ramas retiradas en cada árbol: 5\n",
      "Ingrese el número de hojas que desea obtener: 49\n",
      "Debes podar 1 árbol para conseguir las 49 hojas deseadas.\n"
     ]
    }
   ],
   "source": [
    "import math\n",
    "leaves = int(input(\"Ingrese el número de hojas que tiene cada rama: \"))\n",
    "branches = int(input(\"Ingrese el número de ramas retiradas en cada árbol: \"))\n",
    "desired_leaves = int(input(\"Ingrese el número de hojas que desea obtener: \"))\n",
    "trees = math.ceil(desired_leaves/(leaves*branches))\n",
    "message_tree = f\"{trees} árbol\" if (trees == 1) else f\"{trees} árboles\" \n",
    "message_leaves = \"la hoja deseada.\" if desired_leaves == 1 else f\"las {desired_leaves} hojas deseadas.\"\n",
    "print(f\"Debes podar {message_tree} para conseguir {message_leaves}\")"
   ]
  },
  {
   "cell_type": "markdown",
   "id": "periodic-strengthening",
   "metadata": {},
   "source": [
    "## 2. R/"
   ]
  },
  {
   "cell_type": "code",
   "execution_count": 16,
   "id": "limited-flight",
   "metadata": {},
   "outputs": [
    {
     "name": "stdout",
     "output_type": "stream",
     "text": [
      "Ingrese la cantidad de dinero que le prestaron: 500\n",
      "Ingrese el porcentaje de interés diario: 3\n",
      "El dinero que debes pagar con interés simple es: $605.0\n",
      "El dinero que debes pagar con interés compuesto es: $614.9369327124351\n"
     ]
    }
   ],
   "source": [
    "borrowed_money = int(input(\"Ingrese la cantidad de dinero que le prestaron: \"))\n",
    "interest = int(input(\"Ingrese el porcentaje de interés diario: \"))\n",
    "\n",
    "with_simple_interest = borrowed_money * (1+(interest/100)*7)\n",
    "with_compound_interest = borrowed_money * ((1+(interest/100))**7)\n",
    "\n",
    "print(f\"El dinero que debes pagar con interés simple es: ${with_simple_interest}\")\n",
    "print(f\"El dinero que debes pagar con interés compuesto es: ${with_compound_interest}\")"
   ]
  },
  {
   "cell_type": "markdown",
   "id": "adjustable-booth",
   "metadata": {},
   "source": [
    "## 3. R/"
   ]
  },
  {
   "cell_type": "code",
   "execution_count": 7,
   "id": "linear-lesson",
   "metadata": {},
   "outputs": [
    {
     "name": "stdout",
     "output_type": "stream",
     "text": [
      "Ingrese el número de vacas: 10\n",
      "Ingrese los metros cuadrados de pasto que come una vaca para producir leche: 1\n",
      "Ingrese los litros de leche que produce: 2\n",
      "Si produce un total de 10 metros cuadrados de pasto, su producción total de leche es 20 litros.\n",
      " \n",
      "Ingrese el número de aves (pollos y gallinas): 68\n",
      "Las 22 gallinas producen al mes 176 huevos.\n",
      " \n",
      "Ingrese el número de escorpiones pequeños: 20\n",
      "Ingrese el número de escorpiones medianos: 10\n",
      "Ingrese el número de escorpiones grandes: 5\n",
      "El peso máximo de escorpiones que puede vender sin reducir la población a menos de 2/3 es de 0.26 kilogramos.\n",
      " \n",
      "Ingrese el ancho del corral en metros: 20\n",
      "Ingrese el largo del corral en metros: 10\n",
      "Ingrese el costo del alambre de púas por metro: 1000\n",
      "Ingrese el costo de las tablas por metro: 1200\n",
      "Ingrese el costo de las varillas por metro: 1500\n",
      "La cerca más económica es la de tablas con un costo de $300000.\n"
     ]
    }
   ],
   "source": [
    "import math\n",
    "\n",
    "cows = int(input(\"Ingrese el número de vacas: \"))\n",
    "grass_per_cow = int(input(\"Ingrese los metros cuadrados de pasto que come una vaca para producir leche: \"))\n",
    "milk_per_cow = int(input(\"Ingrese los litros de leche que produce: \"))\n",
    "\n",
    "total_grass = grass_per_cow * cows\n",
    "total_milk = milk_per_cow * cows\n",
    "\n",
    "print(f\"Si produce un total de {total_grass} metros cuadrados de pasto, su producción total de leche es {total_milk} litros.\")\n",
    "print(\" \")\n",
    "\n",
    "poultry = int(input(\"Ingrese el número de aves (pollos y gallinas): \"))\n",
    "\n",
    "hens = math.floor(1/3 * poultry)\n",
    "eggs_each_three_days = math.floor(1/2 * hens) * 10\n",
    "eggs_each_five_days = math.ceil(1/2 * hens) * 6\n",
    "\n",
    "total_eggs = eggs_each_three_days + eggs_each_five_days\n",
    "\n",
    "print(f\"Las {hens} gallinas producen al mes {total_eggs} huevos.\")\n",
    "print(\" \")\n",
    "\n",
    "small_scorpions = int(input(\"Ingrese el número de escorpiones pequeños: \"))\n",
    "medium_scorpions = int(input(\"Ingrese el número de escorpiones medianos: \"))\n",
    "big_scorpions = int(input(\"Ingrese el número de escorpiones grandes: \"))\n",
    "\n",
    "max_small_scorpions = math.floor(1/3 * small_scorpions) \n",
    "max_medium_scorpions = math.floor(1/3 * medium_scorpions)\n",
    "max_big_scorpions = math.floor(1/3 * big_scorpions)\n",
    "\n",
    "max_kilograms_to_sell = max_small_scorpions * (20/1000) + max_medium_scorpions * (30/1000) + max_big_scorpions * (50/1000)\n",
    "\n",
    "print(f\"El peso máximo de escorpiones que puede vender sin reducir la población a menos de 2/3 es de {max_kilograms_to_sell} kilogramos.\")\n",
    "print(\" \")\n",
    "\n",
    "width = int(input(\"Ingrese el ancho del corral en metros: \"))\n",
    "length = int(input(\"Ingrese el largo del corral en metros: \"))\n",
    "barbed_wire_cost = int(input(\"Ingrese el costo del alambre de púas por metro: \"))\n",
    "wooden_boards_cost = int(input(\"Ingrese el costo de las tablas por metro: \"))\n",
    "metal_rods_cost = int(input(\"Ingrese el costo de las varillas por metro: \"))\n",
    "\n",
    "barbed_wire_row_cost = 5 * barbed_wire_cost\n",
    "wooden_boards_row_cost = 4 * wooden_boards_cost\n",
    "metal_rods_row_cost = 8 * metal_rods_cost\n",
    "\n",
    "barbed_wire_total_cost = 2 * (width + length) * barbed_wire_row_cost\n",
    "wooden_boards_total_cost = 2 * (width + length) * wooden_boards_row_cost\n",
    "metal_rods_total_cost = 2 * (width + length) * metal_rods_row_cost\n",
    "\n",
    "if (barbed_wire_total_cost < wooden_boards_total_cost and barbed_wire_total_cost < metal_rods_total_cost):\n",
    "    print(f\"La cerca más económica es la de alambre de púas con un costo de ${barbed_wire_total_cost}.\")\n",
    "elif (wooden_boards_total_cost < barbed_wire_total_cost and wooden_boards_total_cost < metal_rods_total_cost):\n",
    "    print(f\"La cerca más económica es la de tablas con un costo de ${barbed_wire_total_cost}.\")\n",
    "elif (metal_rods_total_cost < barbed_wire_total_cost and metal_rods_total_cost < wooden_boards_total_cost):\n",
    "    print(f\"La cerca más económica es la de varillas con un costo de ${metal_rods_total_cost}.\")\n",
    "elif (metal_rods_total_cost == barbed_wire_total_cost and metal_rods_total_cost == wooden_boards_total_cost):\n",
    "    print(f\"Cualquiera de las tres cercas tienen el mismo costo de ${metal_rods_total_cost}.\")\n",
    "elif (metal_rods_total_cost == barbed_wire_total_cost):\n",
    "    print(f\"La cerca de alambre de púas y varillas tienen el mismo costo de ${metal_rods_total_cost}.\")\n",
    "elif (metal_rods_total_cost == wooden_boards_total_cost):\n",
    "    print(f\"La cerca de tablas y varillas tienen el mismo costo de ${metal_rods_total_cost}.\")\n",
    "else:\n",
    "    print(f\"La cerca de tablas y alambre de púas tienen el mismo costo de ${wooden_boards_total_cost}.\")"
   ]
  }
 ],
 "metadata": {
  "kernelspec": {
   "display_name": "Python 3",
   "language": "python",
   "name": "python3"
  },
  "language_info": {
   "codemirror_mode": {
    "name": "ipython",
    "version": 3
   },
   "file_extension": ".py",
   "mimetype": "text/x-python",
   "name": "python",
   "nbconvert_exporter": "python",
   "pygments_lexer": "ipython3",
   "version": "3.8.5"
  }
 },
 "nbformat": 4,
 "nbformat_minor": 5
}
