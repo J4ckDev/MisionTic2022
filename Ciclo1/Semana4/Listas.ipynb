{
 "cells": [
  {
   "cell_type": "markdown",
   "id": "representative-collective",
   "metadata": {},
   "source": [
    "# Problemas\n",
    "\n",
    "1. Desarrollar un programa que determine si en una lista no existen elementos repetidos.\n",
    "2. Desarrollar un programa que determine si un elemento de una lista es una cadena palı́ndromo. Si la cadena existe debe imprimirla y si no existe debe imprimir ’No existe’.\n",
    "3. Desarrollar un programa que determine si en una lista se encuentra una cadena de caracteres con dos o más vocales. Si la cadena existe debe imprimirla y si no existe debe imprimir ’No existe’.\n",
    "4. Desarrollar un programa que determine si una lista es palı́ndromo. Una lista es palı́ndromo si el elemento en la posición $i$ es el mismo de la posición $n−1−i$ con $n$ la longitud de la lista.\n",
    "5. Desarrollar un programa que dadas dos listas determine que elementos tiene la primer lista que no tenga la segunda lista.\n",
    "    \n",
    "    **Ejemplo**  \n",
    "    *lista1:* \\[1,\"Hola\",-12.3,True\\]  \n",
    "    *lista2:* \\[11,-12.3,\"Hola\",False\\]  \n",
    "    *salida:* \\[1,True\\]\n",
    "\n",
    "\n",
    "## Soluciones\n",
    "\n",
    "### 1. R/"
   ]
  },
  {
   "cell_type": "code",
   "execution_count": 1,
   "id": "institutional-driving",
   "metadata": {},
   "outputs": [
    {
     "name": "stdout",
     "output_type": "stream",
     "text": [
      "[1, 2, 4, 5, 5] tiene uno o más elementos repetidos.\n",
      "[1, 2, 3, 4, 1, 2] tiene uno o más elementos repetidos.\n",
      "(1, 2, 3, 4, 5) no tiene elementos repetidos.\n",
      "(1, 2, 1, 4, 3) tiene uno o más elementos repetidos.\n"
     ]
    }
   ],
   "source": [
    "def has_repeated_values(list_or_tuple):   \n",
    "    total_values = len(list_or_tuple)\n",
    "    for key in range(total_values):\n",
    "        actual_value = list_or_tuple[key]\n",
    "        if key < total_values:\n",
    "            sub_structure = list_or_tuple[key+1:]\n",
    "            if actual_value in sub_structure:\n",
    "                return \"tiene uno o más elementos repetidos.\"\n",
    "            \n",
    "    return \"no tiene elementos repetidos.\"\n",
    "\n",
    "list_one = [1,2,4,5,5]\n",
    "list_two = [1,2,3,4,1,2]\n",
    "tuple_one = (1,2,3,4,5)\n",
    "tuple_two = (1,2,1,4,3)\n",
    "\n",
    "print(f\"{list_one} {has_repeated_values(list_one)}\")\n",
    "print(f\"{list_two} {has_repeated_values(list_two)}\")\n",
    "print(f\"{tuple_one} {has_repeated_values(tuple_one)}\")\n",
    "print(f\"{tuple_two} {has_repeated_values(tuple_two)}\")"
   ]
  },
  {
   "cell_type": "markdown",
   "id": "medieval-instruction",
   "metadata": {},
   "source": [
    "### 2. R/"
   ]
  },
  {
   "cell_type": "code",
   "execution_count": 7,
   "id": "hidden-technology",
   "metadata": {},
   "outputs": [
    {
     "name": "stdout",
     "output_type": "stream",
     "text": [
      "No existe\n",
      "reconocer\n",
      "amor a roma\n",
      "No existe\n",
      "ana\n",
      "somos\n",
      "No existe\n",
      "No existe\n"
     ]
    }
   ],
   "source": [
    "def is_palindrome(structure):\n",
    "    return True if structure == structure[::-1] else False \n",
    "\n",
    "list_three = [\"hola\", \"reconocer\", \"amor a roma\", \"colombia\", \"ana\", \"somos\", \"cancerbero\", \"armero\"]\n",
    "\n",
    "for element in list_three:\n",
    "    if is_palindrome(element):\n",
    "        print(element)\n",
    "    else:\n",
    "        print(\"No existe\")"
   ]
  },
  {
   "cell_type": "markdown",
   "id": "thick-morocco",
   "metadata": {},
   "source": [
    "### 3. R/"
   ]
  },
  {
   "cell_type": "code",
   "execution_count": 12,
   "id": "colonial-yacht",
   "metadata": {},
   "outputs": [
    {
     "name": "stdout",
     "output_type": "stream",
     "text": [
      "niño\n",
      "No existe\n",
      "No existe\n",
      "Murcielago\n",
      "No existe\n",
      "amor\n",
      "abanico\n"
     ]
    }
   ],
   "source": [
    "def replace_letters_with_accent(string):\n",
    "    string = string.replace(\"á\", \"a\")\n",
    "    string = string.replace(\"é\", \"e\")\n",
    "    string = string.replace(\"í\", \"i\")\n",
    "    string = string.replace(\"ó\", \"o\")\n",
    "    string = string.replace(\"ú\", \"u\")\n",
    "    string = string.replace(\"ü\", \"u\")\n",
    "    return string\n",
    "\n",
    "def count_vowels(string):\n",
    "    string = string.lower()\n",
    "    string = replace_letters_with_accent(string)\n",
    "    vowels = (\"a\",\"e\",\"i\",\"o\",\"u\")\n",
    "    count = 0\n",
    "    for vowel in vowels:\n",
    "        if vowel in string:\n",
    "            count += 1\n",
    "    return count\n",
    "\n",
    "strings = (\"niño\", \"orco\", \"fin\", \"Murcielago\", \"nene\", \"amor\", \"abanico\")\n",
    "\n",
    "for string in strings:\n",
    "    total_vowels = count_vowels(string)\n",
    "    print(string) if total_vowels >= 2 else print(\"No existe\")"
   ]
  },
  {
   "cell_type": "markdown",
   "id": "english-peeing",
   "metadata": {},
   "source": [
    "### 4. R/"
   ]
  },
  {
   "cell_type": "code",
   "execution_count": 14,
   "id": "afraid-candle",
   "metadata": {},
   "outputs": [
    {
     "name": "stdout",
     "output_type": "stream",
     "text": [
      "True\n",
      "True\n",
      "False\n"
     ]
    }
   ],
   "source": [
    "tuple_three = (1,2,3,4,3,2,1)\n",
    "tuple_four = (\"tupla\", \"no\", 1, True, 1, \"no\", \"tupla\")\n",
    "tuple_five = (\"debo\", \"retornar\", False)\n",
    "\n",
    "print(is_palindrome(tuple_three))\n",
    "print(is_palindrome(tuple_four))\n",
    "print(is_palindrome(tuple_five))"
   ]
  },
  {
   "cell_type": "markdown",
   "id": "organized-mobile",
   "metadata": {},
   "source": [
    "### 5. R/"
   ]
  },
  {
   "cell_type": "code",
   "execution_count": 18,
   "id": "bridal-article",
   "metadata": {},
   "outputs": [
    {
     "name": "stdout",
     "output_type": "stream",
     "text": [
      "[1, True, 'mas cosas', 345]\n"
     ]
    }
   ],
   "source": [
    "data_one = [1,\"Hola\",-12.3,True, \"mas cosas\", 345]\n",
    "data_two = [11,-12.3,\"Hola\",False]\n",
    "no_data = []\n",
    "for element in data_one:\n",
    "    if element not in data_two: \n",
    "        no_data.append(element)\n",
    "        \n",
    "print(no_data)"
   ]
  }
 ],
 "metadata": {
  "kernelspec": {
   "display_name": "Python 3",
   "language": "python",
   "name": "python3"
  },
  "language_info": {
   "codemirror_mode": {
    "name": "ipython",
    "version": 3
   },
   "file_extension": ".py",
   "mimetype": "text/x-python",
   "name": "python",
   "nbconvert_exporter": "python",
   "pygments_lexer": "ipython3",
   "version": "3.8.10"
  }
 },
 "nbformat": 4,
 "nbformat_minor": 5
}
