{
 "cells": [
  {
   "cell_type": "markdown",
   "id": "gross-pillow",
   "metadata": {},
   "source": [
    "# Problemas\n",
    "\n",
    "1. Desarrollar un algoritmo que imprima de manera ascendente los valores (todos del mismo tipo) de un diccionario.\n",
    "2. Desarrollar un algoritmo que verifique si todas las clave:valor de un diccionario se encuentran en otro diccionario.\n",
    "3. Desarrollar una función que reciba dos diccionarios como parámetros y los mezcle, es decir, que se construya un nuevo diccionario con las llaves de los dos diccionarios; si hay una clave repetida en ambos diccionarios, se debe asignar el valor que tenga la clave en el primer diccionario.\n",
    "4. Desarrollar un programa que dada una listas de personas, cada persona representada como el siguiente ejemplo: {\"nombres\":\"Pedro Julio\", \"apellidos\":\"Tristán Merchán\", \"edad\":101}, imprima los nombres y apellidos de las personas que están en un rango de edades.\n",
    "\n",
    "## Soluciones\n",
    "\n",
    "### 1. R/"
   ]
  },
  {
   "cell_type": "code",
   "execution_count": 1,
   "id": "negative-sarah",
   "metadata": {},
   "outputs": [
    {
     "name": "stdout",
     "output_type": "stream",
     "text": [
      "PRIMER DICCIONARIO\n",
      "ORIGINAL\n",
      "3\n",
      "prueba\n",
      "2\n",
      "value\n",
      "ORDENADO\n",
      "Los valores del diccionario son de diferentes tipos, no se pueden ordenar.\n",
      " \n",
      "SEGUNDO DICCIONARIO\n",
      "ORIGINAL\n",
      "(True, 1, 50)\n",
      "('Hernando', '23 Años', 'Estados Unidos')\n",
      "('No registra',)\n",
      "(4, 'David')\n",
      "(1, 2, 3, 4, 5, 6, 7)\n",
      "ORDENADO\n",
      "('No registra',)\n",
      "(4, 'David')\n",
      "(True, 1, 50)\n",
      "('Hernando', '23 Años', 'Estados Unidos')\n",
      "(1, 2, 3, 4, 5, 6, 7)\n",
      " \n",
      "TERCER DICCIONARIO\n",
      "ORIGINAL\n",
      "1.97\n",
      "8.49\n",
      "9.79\n",
      "8.53\n",
      "0.43\n",
      "ORDENADO\n",
      "0.43\n",
      "1.97\n",
      "8.49\n",
      "8.53\n",
      "9.79\n",
      " \n",
      "CUARTO DICCIONARIO\n",
      "ORIGINAL\n",
      "Carlos\n",
      "Daniela\n",
      "Juan\n",
      "Mario\n",
      "Aaron\n",
      "Tania\n",
      "armando\n",
      "ORDENADO\n",
      "Aaron\n",
      "armando\n",
      "Carlos\n",
      "Daniela\n",
      "Juan\n",
      "Mario\n",
      "Tania\n",
      " \n"
     ]
    }
   ],
   "source": [
    "def items_have_same_type(values):\n",
    "    control = type(values[0])\n",
    "    for value in values:\n",
    "        if type(value) != control:\n",
    "            return False\n",
    "    return True\n",
    "\n",
    "def prepare_items_to_sort(values):\n",
    "    type_value = type(values[0])\n",
    "    total_values =  len(values)    \n",
    "    if type_value is str:\n",
    "        for key in range(total_values):\n",
    "            values[key] = (values[key].lower(),key)\n",
    "    elif type_value is tuple or type_value is list:\n",
    "        for key in range(total_values):\n",
    "            values[key] = (len(values[key]),key)\n",
    "    else:\n",
    "        for key in range(total_values):\n",
    "            values[key] = (values[key],key)\n",
    "    values.sort()\n",
    "    return values\n",
    "\n",
    "def sort_dictionary_min_to_max(dictionary):\n",
    "    keys = list(dictionary.keys())\n",
    "    original_values = list(dictionary.values())\n",
    "    dictionary_sorted = {}\n",
    "    if items_have_same_type(original_values):\n",
    "        values_prepared = prepare_items_to_sort(original_values.copy())\n",
    "        for value in values_prepared:\n",
    "            dictionary_sorted[keys[value[1]]] = original_values[value[1]]\n",
    "        return dictionary_sorted\n",
    "    return dictionary\n",
    "\n",
    "def print_items_ordered_min_to_max(dictionary):\n",
    "    values = list(dictionary.values())\n",
    "    print(\"ORDENADO\")\n",
    "    if items_have_same_type(values):        \n",
    "        dictionary = sort_dictionary_min_to_max(dictionary)\n",
    "        for key,value in dictionary.items():\n",
    "            print(value)\n",
    "    else:\n",
    "        print(\"Los valores del diccionario son de diferentes tipos, no se pueden ordenar.\")\n",
    "        \n",
    "def print_items(dictionary):\n",
    "    print(\"ORIGINAL\")\n",
    "    values = list(dictionary.values())\n",
    "    for value in values:\n",
    "        print(value)\n",
    "    \n",
    "example_dict = {'first': 3, 'second': \"prueba\", 'third': 2, 'fourth': \"value\"}\n",
    "dict_with_tuples = {'1':(True,1,50),'2':(\"Hernando\",\"23 Años\",\"Estados Unidos\"),'3':(\"No registra\",),'4':(4,\"David\"),'5':(1,2,3,4,5,6,7)}\n",
    "money_expended = {'Aldrich': 1.97,'Enrico': 8.49,'Christoper': 9.79,'Cherice': 8.53,'Margi': 0.43}\n",
    "names = {\"one\":\"Carlos\",\"two\":\"Daniela\",\"three\":\"Juan\",\"four\":\"Mario\",\"Five\":\"Aaron\",\"six\":\"Tania\",\"seven\":\"armando\"}\n",
    "\n",
    "print(\"PRIMER DICCIONARIO\")\n",
    "print_items(example_dict)\n",
    "print_items_ordered_min_to_max(example_dict)\n",
    "print(\" \")\n",
    "print(\"SEGUNDO DICCIONARIO\")\n",
    "print_items(dict_with_tuples)\n",
    "print_items_ordered_min_to_max(dict_with_tuples)\n",
    "print(\" \")\n",
    "print(\"TERCER DICCIONARIO\")\n",
    "print_items(money_expended)\n",
    "print_items_ordered_min_to_max(money_expended)\n",
    "print(\" \")\n",
    "print(\"CUARTO DICCIONARIO\")\n",
    "print_items(names)\n",
    "print_items_ordered_min_to_max(names)\n",
    "print(\" \")"
   ]
  },
  {
   "cell_type": "markdown",
   "id": "consecutive-carpet",
   "metadata": {},
   "source": [
    "### 2. R/"
   ]
  },
  {
   "cell_type": "code",
   "execution_count": 10,
   "id": "failing-france",
   "metadata": {},
   "outputs": [
    {
     "name": "stdout",
     "output_type": "stream",
     "text": [
      "False\n",
      "True\n",
      "False\n"
     ]
    }
   ],
   "source": [
    "def have_all_key_value(dict_to_verify,dict_of_control):\n",
    "    for key,value in dict_to_verify.items():\n",
    "        if key not in dict_of_control or value != dict_of_control[key]:\n",
    "            return False\n",
    "    return True\n",
    "    \n",
    "\n",
    "dict_one = {\"one\":1,\"four\":4,\"nine\":9,\"five\":5}\n",
    "dict_two = {\"eight\":8,\"nine\":9}\n",
    "dict_three = {\"four\":4,\"one\":1}\n",
    "\n",
    "print(have_all_key_value(dict_one,dict_two))\n",
    "print(have_all_key_value(dict_three,dict_one))\n",
    "print(have_all_key_value(dict_two,dict_three))"
   ]
  },
  {
   "cell_type": "markdown",
   "id": "extraordinary-redhead",
   "metadata": {},
   "source": [
    "### 3. R/"
   ]
  },
  {
   "cell_type": "code",
   "execution_count": 12,
   "id": "comprehensive-discharge",
   "metadata": {},
   "outputs": [
    {
     "data": {
      "text/plain": [
       "{'one': 1, 'four': 4, 'nine': 19, 'five': 5, 'eight': 8}"
      ]
     },
     "execution_count": 12,
     "metadata": {},
     "output_type": "execute_result"
    }
   ],
   "source": [
    "def mix_dict(dict_one,dict_two):\n",
    "    new_dict = dict_two.copy() \n",
    "    new_dict.update(dict_one)  \n",
    "    return new_dict\n",
    "\n",
    "dict_one = {\"one\":1,\"four\":4,\"nine\":9,\"five\":5}\n",
    "dict_two = {\"eight\":8,\"nine\":19}\n",
    "\n",
    "mix_dict(dict_two,dict_one)"
   ]
  },
  {
   "cell_type": "markdown",
   "id": "valued-increase",
   "metadata": {},
   "source": [
    "### 4. R/"
   ]
  },
  {
   "cell_type": "code",
   "execution_count": 40,
   "id": "eleven-keeping",
   "metadata": {},
   "outputs": [
    {
     "name": "stdout",
     "output_type": "stream",
     "text": [
      "Personas con edad entre 0 y 120 años.\n",
      "Nombres \t Apellidos\n",
      "Pedro Julio \t Tristán Merchán\n",
      "Daniel \t Hurtado\n",
      "Alejandra \t Morales\n",
      "Javier \t Hernández\n",
      "Daniela \t Osorio\n",
      "Michelle \t Sanchez\n",
      "Julian Alexis \t Machado\n",
      "Maria Jose \t Rey\n",
      "John \t Doe\n",
      "Luis \t Ibarra\n"
     ]
    }
   ],
   "source": [
    "def print_people_in_range(people,min_age=0,max_age=120): \n",
    "    print(f\"Personas con edad entre {min_age} y {max_age} años.\")\n",
    "    print(\"Nombres \\t Apellidos\")\n",
    "    for person in people:\n",
    "        if person[\"edad\"] >= min_age and person[\"edad\"] <= max_age:\n",
    "            name = person[\"nombres\"]\n",
    "            surname = person[\"apellidos\"]\n",
    "            print(f\"{name} \\t {surname}\")\n",
    "    \n",
    "    \n",
    "\n",
    "people = [{\"nombres\":\"Pedro Julio\", \"apellidos\":\"Tristán Merchán\", \"edad\":101},\n",
    "         {\"nombres\":\"Daniel\", \"apellidos\":\"Hurtado\", \"edad\":20},\n",
    "         {\"nombres\":\"Alejandra\", \"apellidos\":\"Morales\", \"edad\":55},\n",
    "         {\"nombres\":\"Javier\", \"apellidos\":\"Hernández\", \"edad\":80},\n",
    "         {\"nombres\":\"Daniela\", \"apellidos\":\"Osorio\", \"edad\":23},\n",
    "         {\"nombres\":\"Michelle\", \"apellidos\":\"Sanchez\", \"edad\":15},\n",
    "         {\"nombres\":\"Julian Alexis\", \"apellidos\":\"Machado\", \"edad\":8},\n",
    "         {\"nombres\":\"Maria Jose\", \"apellidos\":\"Rey\", \"edad\":90},\n",
    "         {\"nombres\":\"John\", \"apellidos\":\"Doe\", \"edad\":45},\n",
    "         {\"nombres\":\"Luis\", \"apellidos\":\"Ibarra\", \"edad\":30}]\n",
    "prueba = {\"nombres\":\"Pedro Julio\", \"apellidos\":\"Tristán Merchán\", \"edad\":101}\n",
    "\n",
    "print_people_in_range(people)"
   ]
  }
 ],
 "metadata": {
  "kernelspec": {
   "display_name": "Python 3",
   "language": "python",
   "name": "python3"
  },
  "language_info": {
   "codemirror_mode": {
    "name": "ipython",
    "version": 3
   },
   "file_extension": ".py",
   "mimetype": "text/x-python",
   "name": "python",
   "nbconvert_exporter": "python",
   "pygments_lexer": "ipython3",
   "version": "3.8.5"
  }
 },
 "nbformat": 4,
 "nbformat_minor": 5
}
