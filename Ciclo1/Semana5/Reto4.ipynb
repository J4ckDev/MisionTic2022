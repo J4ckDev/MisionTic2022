{
 "cells": [
  {
   "cell_type": "markdown",
   "id": "naked-indication",
   "metadata": {},
   "source": [
    "# ArpaLlanera Hero: \"Fail in the Note\"\n",
    "\n",
    "Luego del gran éxito de ArpaLLanera Hero, Deiv Mostacho decide continuar con esta gran idea, pero enfocado hacia otros jugadores, así que se le ocurre construir una app para tener una versión del juego para dispositivos móviles pero con una dinámica diferente, por cuestiones de derechos de autor y de seguir sus propias ideas.\n",
    "\n",
    "Deiv estaba mirando programas viejos colombianos, y se encuentra con uno que tenía un concurso llamado \"Caiga en la Nota\", el cual le pareció muy interesante y le sirvió de inspiración. Se le ocurrió un juego como el que se describe a continuación: un usuario va a escucha la canción, y va a ir escribiendo las cuerdas (separadas por guión) que considera están sonando, en donde cada cuerda sólo va a sonar una única vez. El juego tendrá un conjunto con las notas válidas en la canción, y si la nota escrita por el jugador está en el conjunto de notas válidas, recibirá una puntuación que está almacenada también en el conjunto.\n",
    "\n",
    "Así, el jugador recibirá al final el puntaje que obtuvo (de acuerdo a las cuerdas a las que le atino) y el listado de cuerdas válidas en el orden que las escribió y separadas por coma.\n",
    "\n",
    "A continuación se muestra un ejemplo para hacer esto más claro:\n",
    "\n",
    "- Conjunto de cuerdas válidas = {\"i\": 90, \"n\": 25, \"t\": 32, \"l\": 24, \"j\": 23, \"r\": 54, \"h\": 34, \"z\": 36, \"p\": 95, \"k\": 86, \"e\": 67, \"g\": 27, \"u\": 54, \"x\": 57, \"m\": 94}\n",
    "- Cuerdas escritas por el jugador: r-p-q-g-h-k-l-x-b-s-o-e-y-m-z\n",
    "- Entonces el puntaje sería 574, debido a que las notas válidas a las que atino el jugador son: r,p,g,h,k,l,x,e,m,z; así que el puntaje se calcula: 54+95+27+34+86+24+57+67+94+36=574.\n",
    "\n",
    "Usted se cansó de ser el jalacables de los otros melenudos raros, así que se contacta con Deiv para desarrollar el video juego en versión de móvil. Así, usted va a desarrollar un programa que reciba el conjunto de cuerdas válidas junto con el puntaje que otorgan, y las cuerdas escritas por el jugador seperadas por un guión. Calculará el puntaje, y se lo mostrará al usuario, junto con las cuerdas correctas de las escritas por el jugador, y separadas por coma.\n",
    "\n",
    "**Entrada**\n",
    "\n",
    "En la primera línea, va a recibir una cadena de caracteres, que contendrá un diccionario cuyas claves serán cadenas de caracteres y sus valores serán números enteros. En la segunda línea, va a recibir una cadena de caracteres que corresponde a las cuerdas escritas por el jugador, y separadas por guión.\n",
    "\n",
    "**Salida**\n",
    "\n",
    "En la primera línea se debe escribir el puntaje obtenido por el jugador. En la segunda línea, se debe escribir una cadena de caracteres con las cuerdas válidas que atino el jugador, en el mismo orden que las escribió el jugador, y separadas por coma.\n",
    "\n",
    "**Ejemplo**\n",
    "\n",
    "|Entrada|Salida|\n",
    "|:------|:-----|\n",
    "|{\"i\": 90, \"n\": 25, \"t\": 32, \"l\": 24, \"j\": 23, \"r\": 54, \"h\": 34, \"z\": 36, \"p\": 95, \"k\": 86, \"e\": 67, \"g\": 27, \"u\": 54, \"x\": 57, \"m\": 94}|574|\n",
    "|r-p-q-g-h-k-l-x-b-s-o-e-y-m-z|r,p,g,h,k,l,x,e,m,z|\n",
    "\n",
    "## Solución"
   ]
  },
  {
   "cell_type": "code",
   "execution_count": 9,
   "id": "fabulous-cycling",
   "metadata": {},
   "outputs": [
    {
     "name": "stdout",
     "output_type": "stream",
     "text": [
      "Ingrese el diccionario con las cuerdas válidas: {\"i\": 90, \"n\": 25, \"t\": 32, \"l\": 24, \"j\": 23, \"r\": 54, \"h\": 34, \"z\": 36, \"p\": 95, \"k\": 86, \"e\": 67, \"g\": 27, \"u\": 54, \"x\": 57, \"m\": 94}\n",
      "Ingrese las cuerdas del jugador separadas por guiones: r-p-q-g-h-k-l-x-b-s-o-e-y-m-z\n",
      "574\n",
      "r,p,g,h,k,l,x,e,m,z\n"
     ]
    }
   ],
   "source": [
    "def clean_string(string):\n",
    "    string = string.replace(\" \",\"\")\n",
    "    string = string.replace(\"{\",\"\")\n",
    "    string = string.replace(\"}\",\"\")\n",
    "    return string\n",
    "\n",
    "def string_couples(string):\n",
    "    couples = string.split(\",\")\n",
    "    total_couples = len(couples)\n",
    "    for index_couple in range(total_couples):\n",
    "        couples[index_couple] = couples[index_couple].replace(\"\\\"\",\"\") \n",
    "    return couples\n",
    "\n",
    "def string_couples_to_list_couples(couples):\n",
    "    total_couples = len(couples)\n",
    "    for index_couple in range(total_couples):\n",
    "        couples[index_couple] = couples[index_couple].split(\":\")\n",
    "        couples[index_couple][1] = int(couples[index_couple][1])\n",
    "    return couples\n",
    "\n",
    "def string_to_dictionary(string):\n",
    "    string = clean_string(string)\n",
    "    all_string_couples = string_couples(string)\n",
    "    list_of_couples = string_couples_to_list_couples(all_string_couples)\n",
    "    dictionary = dict(list_of_couples)\n",
    "    return dictionary\n",
    "\n",
    "cuerdas_validas = input(\"Ingrese el diccionario con las cuerdas válidas: \")\n",
    "cuerdas_validas = string_to_dictionary(cuerdas_validas)\n",
    "cuerdas_jugador = input(\"Ingrese las cuerdas del jugador separadas por guiones: \")\n",
    "cuerdas_jugador = cuerdas_jugador.split(\"-\")\n",
    "total_cuerdas_jugador = len(cuerdas_jugador)\n",
    "puntaje = 0\n",
    "cuerdas_atinadas = \"\"\n",
    "for index_cuerda in range(total_cuerdas_jugador):\n",
    "    cuerda = cuerdas_jugador[index_cuerda]\n",
    "    if cuerda in cuerdas_validas:\n",
    "        puntaje += cuerdas_validas[cuerda]\n",
    "        if index_cuerda == total_cuerdas_jugador-1:\n",
    "            cuerdas_atinadas += cuerda\n",
    "        else:\n",
    "            cuerdas_atinadas += f\"{cuerda},\"\n",
    "\n",
    "print(str(puntaje))\n",
    "print(cuerdas_atinadas)"
   ]
  },
  {
   "cell_type": "markdown",
   "id": "recreational-powder",
   "metadata": {},
   "source": [
    "## Solución con Libreria"
   ]
  },
  {
   "cell_type": "code",
   "execution_count": 17,
   "id": "electrical-pixel",
   "metadata": {},
   "outputs": [
    {
     "name": "stdout",
     "output_type": "stream",
     "text": [
      "Ingrese el diccionario con las cuerdas válidas: {\"i\": 90, \"n\": 25, \"t\": 32, \"l\": 24, \"j\": 23, \"r\": 54, \"h\": 34, \"z\": 36, \"p\": 95, \"k\": 86, \"e\": 67, \"g\": 27, \"u\": 54, \"x\": 57, \"m\": 94}\n",
      "Ingrese las cuerdas del jugador separadas por guiones: r-p-q-g-h-k-l-x-b-s-o-e-y-m-z\n",
      "574\n",
      "r,p,g,h,k,l,x,e,m,z\n"
     ]
    }
   ],
   "source": [
    "import json\n",
    "cuerdas_validas = input(\"Ingrese el diccionario con las cuerdas válidas: \")\n",
    "cuerdas_validas = json.loads(cuerdas_validas)\n",
    "cuerdas_jugador = input(\"Ingrese las cuerdas del jugador separadas por guiones: \")\n",
    "cuerdas_jugador = cuerdas_jugador.split(\"-\")\n",
    "total_cuerdas_jugador = len(cuerdas_jugador)\n",
    "puntaje = 0\n",
    "cuerdas_atinadas = \"\"\n",
    "for index_cuerda in range(total_cuerdas_jugador):\n",
    "    cuerda = cuerdas_jugador[index_cuerda]\n",
    "    if cuerda in cuerdas_validas:\n",
    "        puntaje += cuerdas_validas[cuerda]\n",
    "        if index_cuerda == total_cuerdas_jugador-1:\n",
    "            cuerdas_atinadas += cuerda\n",
    "        else:\n",
    "            cuerdas_atinadas += f\"{cuerda},\"\n",
    "\n",
    "print(str(puntaje))\n",
    "print(cuerdas_atinadas)"
   ]
  }
 ],
 "metadata": {
  "kernelspec": {
   "display_name": "Python 3",
   "language": "python",
   "name": "python3"
  },
  "language_info": {
   "codemirror_mode": {
    "name": "ipython",
    "version": 3
   },
   "file_extension": ".py",
   "mimetype": "text/x-python",
   "name": "python",
   "nbconvert_exporter": "python",
   "pygments_lexer": "ipython3",
   "version": "3.8.10"
  }
 },
 "nbformat": 4,
 "nbformat_minor": 5
}
