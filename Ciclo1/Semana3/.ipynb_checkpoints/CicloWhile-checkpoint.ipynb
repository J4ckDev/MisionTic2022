{
 "cells": [
  {
   "cell_type": "markdown",
   "id": "sensitive-musician",
   "metadata": {},
   "source": [
    "# Problemas\n",
    "\n",
    "1. Desarrollar un programa que imprima el cuadrado del número que el usuario ingresa mientras que el número ingresado no sea negativo.\n",
    "\n",
    "2. Desarrollar un programa que dado un número entero positivo n calcule e imprima (separados por espacios) $\\frac{n}{2}$ si es par o $3n + 1$ si es impar. El programa debe repetir el proceso con el número resultado de dicha operación mientras este sea diferente de 1. Por ejemplo para el número 3 debe imprimir 10 5 16 8 4 2 1.\n",
    "\n",
    "3. En 2022 el paı́s A tendrá una población de 25 millones de habitantes y el paı́s B de 18.9 millones. Las tasas de crecimiento anual de la población serán de 2% y 3% respectivamente. Desarrollar un programa que imprima el año en que la población del paı́s B superará a la de A.\n",
    "\n",
    "4. Diseñar una función que permita calcular el épsilon de la máquina. El épsilon de máquina es el número decimal más pequeño que sumado a 1 se puede representar de manera precisa en la máquina (que no es redondeado), es decir, retorna un valor diferente de 1, éste da una idea de la precisión o número de cifras reales que pueden ser almacenadas en la máquina. La idea es realizar un ciclo en el cual se realiza la operación $1+Ɛ$ para potencias de 2 desde $Ɛ=2^0$ y continuando con potencias decrecientes de 2 ($Ɛ=2^{-1}, Ɛ=2^{-2}, Ɛ=2^{-3}, Ɛ=2^{-4}, ...$) hasta obtener que el resultado de la suma $1+Ɛ$ no se altere.\n",
    "\n",
    "\n",
    "## Solución\n",
    "\n",
    "## 1. R/"
   ]
  },
  {
   "cell_type": "code",
   "execution_count": 8,
   "id": "covered-amino",
   "metadata": {},
   "outputs": [
    {
     "name": "stdout",
     "output_type": "stream",
     "text": [
      "Ingresa un número positivo: 3\n",
      "El cuadrado del número es: 9.0\n",
      "Ingresa un número positivo: 4\n",
      "El cuadrado del número es: 16.0\n",
      "Ingresa un número positivo: -2\n",
      "Ingresaste un número negativo, finalizaste el programa :(\n"
     ]
    }
   ],
   "source": [
    "number = 0\n",
    "while True:\n",
    "    number = float(input(\"Ingresa un número positivo: \"))\n",
    "    if number < 0:\n",
    "        break\n",
    "    else:\n",
    "        print(f\"El cuadrado del número es: {number ** 2}\") \n",
    "print(\"Ingresaste un número negativo, finalizaste el programa :(\")"
   ]
  },
  {
   "cell_type": "markdown",
   "id": "electrical-baker",
   "metadata": {},
   "source": [
    "## 2. R/"
   ]
  },
  {
   "cell_type": "code",
   "execution_count": 12,
   "id": "worthy-drawing",
   "metadata": {},
   "outputs": [
    {
     "name": "stdout",
     "output_type": "stream",
     "text": [
      "Ingrese un número positivo: 201\n",
      "604.0 302.0 151.0 454.0 227.0 682.0 341.0 1024.0 512.0 256.0 128.0 64.0 32.0 16.0 8.0 4.0 2.0 1.0 "
     ]
    }
   ],
   "source": [
    "num = float(input(\"Ingrese un número positivo: \"))\n",
    "while num != 1:\n",
    "    if num % 2 == 0:\n",
    "        num /= 2\n",
    "    else:\n",
    "        num = (3*num) + 1\n",
    "    print(num, end=\" \")"
   ]
  },
  {
   "cell_type": "markdown",
   "id": "correct-brave",
   "metadata": {},
   "source": [
    "## 3. R/"
   ]
  },
  {
   "cell_type": "code",
   "execution_count": 1,
   "id": "verified-commerce",
   "metadata": {},
   "outputs": [
    {
     "name": "stdout",
     "output_type": "stream",
     "text": [
      "En el año 2051 los dos paises tendrán la misma población.\n"
     ]
    }
   ],
   "source": [
    "pop_country_A = 25000000\n",
    "pop_country_B = 18900000\n",
    "year = 2022\n",
    "while pop_country_A > pop_country_B:\n",
    "    pop_country_A *= 1.02\n",
    "    pop_country_B *= 1.03\n",
    "    year += 1\n",
    "print(f\"En el año {year} los dos paises tendrán la misma población.\")"
   ]
  },
  {
   "cell_type": "markdown",
   "id": "supported-escape",
   "metadata": {},
   "source": [
    "## 4. R/"
   ]
  },
  {
   "cell_type": "code",
   "execution_count": 24,
   "id": "voluntary-cartridge",
   "metadata": {},
   "outputs": [
    {
     "name": "stdout",
     "output_type": "stream",
     "text": [
      "El decimal más pequeño que mi computador puede representar de manera precisa es 1.1102230246251565e-16\n"
     ]
    }
   ],
   "source": [
    "n = 0\n",
    "epsilon_sum = 2\n",
    "while (epsilon_sum > 1):    \n",
    "    n -= 1\n",
    "    epsilon = 2**n\n",
    "    epsilon_sum = 1 + epsilon\n",
    "\n",
    "print(f\"El decimal más pequeño que mi computador puede representar de manera precisa es {epsilon}\")"
   ]
  }
 ],
 "metadata": {
  "kernelspec": {
   "display_name": "Python 3",
   "language": "python",
   "name": "python3"
  },
  "language_info": {
   "codemirror_mode": {
    "name": "ipython",
    "version": 3
   },
   "file_extension": ".py",
   "mimetype": "text/x-python",
   "name": "python",
   "nbconvert_exporter": "python",
   "pygments_lexer": "ipython3",
   "version": "3.8.10"
  }
 },
 "nbformat": 4,
 "nbformat_minor": 5
}
