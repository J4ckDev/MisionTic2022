{
 "cells": [
  {
   "cell_type": "markdown",
   "id": "square-lender",
   "metadata": {},
   "source": [
    "# Problemas\n",
    "\n",
    "1. Desarrollar un algoritmo que reciba dos cadenas de caracteres y determine si la primera está incluida en la segunda. Se dice que una cadena está incluida en otra, si todos los caracteres (con repeticiones) de la cadena está en la segunda cadena sin tener en cuenta el ordende los caracteres. \n",
    "\n",
    "    **Ejemplos**  \n",
    "    \n",
    "    - La cadena \"prosa\" está incluida en la cadena \"la profesora de idiomas\".\n",
    "    - La cadena \"pepito\" no esta incluida en la cadena \"un pedazo de tierra\", ya que le falta una \"p\".\n",
    "    - La cadena \"pepito\" si esta incluida en la cadena \"tijeras o papel\".\n",
    "    \n",
    "\n",
    "2. Desarrollar un algoritmo que invierta una cadena de caracteres sin usar slice.\n",
    "\n",
    "3. Desarrollar un algoritmo que determina si una cadena de caracteres es frase palı́ndromo, esto es, si es palı́ndromo al eliminarle espacios, tı́ldes, signos de puntuación y al considerar mayúsculas=minúsculas.\n",
    " \n",
    "    **Ejemplos**\n",
    "    \n",
    "    - \"Anula las alas a la luna\" es frase palı́ndromo.\n",
    "    - \"Dábale arroz a la zorra el abad\" es frase palı́ndromo.\n",
    "    - \"arriba la birra\" es frase palı́ndromo.\n",
    "    - \"Isaac no ronca ası́\" es frase palı́ndromo.\n",
    "    - \"sometamos o matemos\" es frase palı́ndromo.\n",
    "    - \"Anita, la latina\" es frase palı́ndromo.\n",
    "\n",
    "## Soluciones\n",
    "\n",
    "## 1. R/"
   ]
  },
  {
   "cell_type": "code",
   "execution_count": 1,
   "id": "transparent-fabric",
   "metadata": {},
   "outputs": [
    {
     "name": "stdout",
     "output_type": "stream",
     "text": [
      "Ver si los caracteres de una cadena están en la otra.\n",
      "Ingrese la primera cadena: pepito\n",
      "Ingrese la segunda cadena: tijeras o papel\n",
      "La cadena \"pepito\" está incluida en la cadena \"tijeras o papel\".\n"
     ]
    }
   ],
   "source": [
    "def delete_letter(letter,string):\n",
    "    position_to_delete = string.find(letter)\n",
    "    return string[:position_to_delete]+string[position_to_delete+1:]\n",
    "    \n",
    "    \n",
    "print(\"Ver si los caracteres de una cadena están en la otra.\")\n",
    "first_string = input(\"Ingrese la primera cadena: \")\n",
    "second_string = input(\"Ingrese la segunda cadena: \")\n",
    "second_string_copy = second_string\n",
    "control_string = \"\"\n",
    "message = \"\"\n",
    "for letter in first_string:\n",
    "    if letter in second_string:\n",
    "        second_string = delete_letter(letter,second_string)\n",
    "        control_string += letter\n",
    "\n",
    "if first_string == control_string:\n",
    "    message = f\"La cadena \\\"{first_string}\\\" está incluida en la cadena \\\"{second_string_copy}\\\".\" \n",
    "else:\n",
    "    message = f\"La cadena \\\"{first_string}\\\" no está incluida en la cadena \\\"{second_string_copy}\\\".\"\n",
    "    \n",
    "print(message)\n",
    "    "
   ]
  },
  {
   "cell_type": "markdown",
   "id": "veterinary-multimedia",
   "metadata": {},
   "source": [
    "## 2. R/"
   ]
  },
  {
   "cell_type": "code",
   "execution_count": 3,
   "id": "clear-teacher",
   "metadata": {},
   "outputs": [
    {
     "name": "stdout",
     "output_type": "stream",
     "text": [
      "Ingresa una cadena a invertir: hola mundo!!\n",
      "La cadena invertida es \"!!odnum aloh\".\n"
     ]
    }
   ],
   "source": [
    "string_to_invert = input(\"Ingresa una cadena a invertir: \")\n",
    "string_inverted = \"\"\n",
    "for position in range(-1,-(len(string_to_invert)+1),-1):\n",
    "    string_inverted += string_to_invert[position]\n",
    "print(f\"La cadena invertida es \\\"{string_inverted}\\\".\")"
   ]
  },
  {
   "cell_type": "markdown",
   "id": "falling-clearing",
   "metadata": {},
   "source": [
    "## 3. R/"
   ]
  },
  {
   "cell_type": "code",
   "execution_count": 25,
   "id": "imposed-belief",
   "metadata": {},
   "outputs": [
    {
     "name": "stdout",
     "output_type": "stream",
     "text": [
      "Ingresa una cadena para saber si es palíndroma: Dábale arroz a la zorra el abad\n",
      "\"Dábale arroz a la zorra el abad\" es frase palíndromo.\n"
     ]
    }
   ],
   "source": [
    "def remove_spaces(string):\n",
    "    string = string.strip()\n",
    "    string = string.replace(\" \", \"\")\n",
    "    return string\n",
    "    \n",
    "def remove_punctuation_marks(string):\n",
    "    string = string.replace(\".\", \"\")\n",
    "    string = string.replace(\",\", \"\")\n",
    "    string = string.replace(\":\", \"\")\n",
    "    string = string.replace(\";\", \"\")\n",
    "    string = string.replace(\"¡\", \"\")\n",
    "    string = string.replace(\"!\", \"\")\n",
    "    string = string.replace(\"¿\", \"\")\n",
    "    string = string.replace(\"?\", \"\")\n",
    "    string = string.replace(\"'\", \"\")\n",
    "    string = string.replace('\"', \"\")\n",
    "    string = string.replace(\"/\", \"\")\n",
    "    string = string.replace(\"-\", \"\")\n",
    "    string = string.replace(\"_\", \"\")\n",
    "    string = string.replace(\"*\", \"\")\n",
    "    string = string.replace(\"@\", \"\")\n",
    "    string = string.replace(\"[\", \"\")\n",
    "    string = string.replace(\"]\", \"\")\n",
    "    string = string.replace(\"{\", \"\")\n",
    "    string = string.replace(\"}\", \"\")\n",
    "    string = string.replace(\"(\", \"\")\n",
    "    string = string.replace(\")\", \"\")\n",
    "    string = string.replace(\"<\", \"\")\n",
    "    string = string.replace(\">\", \"\")\n",
    "    return string\n",
    "    \n",
    "def replace_letters_with_accent(string):\n",
    "    string = string.replace(\"á\", \"a\")\n",
    "    string = string.replace(\"é\", \"e\")\n",
    "    string = string.replace(\"í\", \"i\")\n",
    "    string = string.replace(\"ó\", \"o\")\n",
    "    string = string.replace(\"ú\", \"u\")\n",
    "    string = string.replace(\"ü\", \"u\")\n",
    "    return string\n",
    "\n",
    "def is_palindrome(string):\n",
    "    string = remove_spaces(string)\n",
    "    string = remove_punctuation_marks(string)\n",
    "    string = replace_letters_with_accent(string)\n",
    "    if string == string[::-1]:\n",
    "        return \"es frase palíndromo.\"\n",
    "    else: \n",
    "        return \"no es frase palíndromo.\"\n",
    "    \n",
    "    \n",
    "string_to_process = input(\"Ingresa una cadena para saber si es palíndroma: \")\n",
    "result = is_palindrome(string_to_process.lower())\n",
    "print(f\"\\\"{string_to_process}\\\" {result}\")\n"
   ]
  }
 ],
 "metadata": {
  "kernelspec": {
   "display_name": "Python 3",
   "language": "python",
   "name": "python3"
  },
  "language_info": {
   "codemirror_mode": {
    "name": "ipython",
    "version": 3
   },
   "file_extension": ".py",
   "mimetype": "text/x-python",
   "name": "python",
   "nbconvert_exporter": "python",
   "pygments_lexer": "ipython3",
   "version": "3.8.5"
  }
 },
 "nbformat": 4,
 "nbformat_minor": 5
}
