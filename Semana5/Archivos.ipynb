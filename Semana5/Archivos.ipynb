{
 "cells": [
  {
   "cell_type": "markdown",
   "id": "configured-pitch",
   "metadata": {},
   "source": [
    "# Problema\n",
    "\n",
    "Dado el archivo de texto *SalesJan2009.csv*, procese el archivo para obtener lo siguiente:\n",
    "\n",
    "- Obtenga las compras realizadas en un país dado en inglés. Ejemplo, si busca al Reino Unido (United Kingdom) la salida debería ser 100 compras.   \n",
    "    \n",
    "- Obtenga las compras realizadas con un medio de pago dado. Ejemplo, si coloca a Visa como medio de pago, debería obtener 521 compras.\n",
    "\n",
    "## Solución"
   ]
  },
  {
   "cell_type": "code",
   "execution_count": 42,
   "id": "civil-complaint",
   "metadata": {},
   "outputs": [
    {
     "name": "stdout",
     "output_type": "stream",
     "text": [
      "Total purchases in Switzerland: 36 \n",
      "Total purchases with Diners: 89\n"
     ]
    }
   ],
   "source": [
    "def read_csv(file_ubication):\n",
    "    rows_readed = []\n",
    "    with open(file_ubication,'r',encoding='utf-8') as file:\n",
    "        rows_readed = file.readlines()\n",
    "    total_lines = len(rows_readed)\n",
    "    for row_index in range(total_lines):\n",
    "        columns = rows_readed[row_index].split(',')  \n",
    "        total_columns = len(columns)\n",
    "        for column_index in range(total_columns):\n",
    "            columns[column_index] = columns[column_index].strip()\n",
    "            columns[column_index] = columns[column_index].replace(\"\\n\",\"\")\n",
    "        rows_readed[row_index] = columns\n",
    "    return rows_readed\n",
    "\n",
    "def total_purchases_by_country(purchases,country):\n",
    "    index_country = purchases[0].index(\"Country\")\n",
    "    count = 0\n",
    "    for purchase in purchases:\n",
    "        if purchase[index_country] == \"Country\":\n",
    "            continue\n",
    "        if purchase[index_country] == country:\n",
    "            count += 1\n",
    "    return count\n",
    "        \n",
    "def total_purchases_by_payment_type(purchases,payment_type):\n",
    "    index_payment_type = purchases[0].index(\"Payment_Type\")\n",
    "    count = 0\n",
    "    for purchase in purchases:\n",
    "        if purchase[index_payment_type] == \"Payment_Type\":\n",
    "            continue\n",
    "        if purchase[index_payment_type] == payment_type:\n",
    "            count += 1\n",
    "    return count\n",
    "    \n",
    "file_ubication = \"./SalesJan2009.csv\"\n",
    "country = \"Switzerland\"\n",
    "payment_type = \"Diners\"\n",
    "data = read_csv(file_ubication)\n",
    "total_purchases = total_purchases_by_country(data,country)\n",
    "print(f\"Total purchases in {country}: {total_purchases} \")\n",
    "\n",
    "total_purchases = total_purchases_by_payment_type(data,payment_type)\n",
    "print(f\"Total purchases with {payment_type}: {total_purchases}\")"
   ]
  }
 ],
 "metadata": {
  "kernelspec": {
   "display_name": "Python 3",
   "language": "python",
   "name": "python3"
  },
  "language_info": {
   "codemirror_mode": {
    "name": "ipython",
    "version": 3
   },
   "file_extension": ".py",
   "mimetype": "text/x-python",
   "name": "python",
   "nbconvert_exporter": "python",
   "pygments_lexer": "ipython3",
   "version": "3.8.5"
  }
 },
 "nbformat": 4,
 "nbformat_minor": 5
}
