{
 "cells": [
  {
   "cell_type": "markdown",
   "id": "peripheral-institution",
   "metadata": {},
   "source": [
    "# Problemas\n",
    "\n",
    "1. Capture la excepción que evita que el usuario acceda a posiciones que no se encuentran definidas en la lista dada y muestre el mensaje *Intenta acceder una posición que no está en el arreglo*:\n",
    "```python\n",
    "lista = [1,2,3,4]\n",
    "lista[5]\n",
    "```\n",
    "Si se ejecuta sin el manejo de la excepción se produce la siguiente salida:\n",
    "```python\n",
    "IndexError   Traceback (most recent call last)\n",
    "<ipython-input-42-64245f71fd49> in <module>\n",
    "1 lista = [1, 2, 3, 4] ----> 2 lista[5] \n",
    "IndexError: list index out of range\n",
    "```\n",
    "\n",
    "2. Capture la excepción para evitar que un programador sume una cadena de texto a un número y muestre el mensaje *Los tipos de datos no cuadran para hacer la operación*:\n",
    "```python\n",
    "def operar(a, b):\n",
    "     return a+b\n",
    "def main():\n",
    "     a = int(input())\n",
    "     b = 'hola'\n",
    "     operar(a, b)    \n",
    "main()\n",
    "```\n",
    "    Si se ejecuta el anterior programa, sin el manejo de la excepción, se produce la siguiente salida (con cualquier número dado por el usuario):\n",
    "\n",
    "```python\n",
    "TypeError     Traceback (most recent call last)\n",
    "<ipython-input-43-63f2edb5e1e0> in <module>\n",
    "7  operar(a, b)\n",
    "8\n",
    "----> 9 main()\n",
    "<ipython-input-43-63f2edb5e1e0> in main()\n",
    "5  a = int(input())\n",
    "6  b = 'hola'\n",
    "----> 7  operar(a, b)\n",
    "8\n",
    "9 main()\n",
    "<ipython-input-43-63f2edb5e1e0> in operar(a, b)\n",
    "1 def operar(a, b):\n",
    "----> 2  return a+b\n",
    "3\n",
    "4 def main():\n",
    "5 a = int(input())\n",
    "TypeError: unsupported operand type(s) for +: 'int' and 'str'\n",
    "\n",
    "```\n",
    "\n",
    "3. Capture la excepción cuando se trata de obtener una llave que no se encuentra en un diccionario y muestre el mensaje *Intenta acceder una llave que no está en el diccionario*:\n",
    "\n",
    "```python\n",
    "def main():\n",
    "    dict = {'James': 'Java', 'Dennis' : 'C', 'Das':'Python'}\n",
    "    print(dict['Ada'])\n",
    "main()\n",
    "```\n",
    "    Si se ejecuta el anterior programa, sin el manejo de la excepción, se produce la siguiente salida:\n",
    "\n",
    "```python\n",
    "KeyError   Traceback (most recent call last)\n",
    "<ipython-input-45-174134c9fede> in <module>\n",
    "3 print(dict[’Ada’])\n",
    "4\n",
    "----> 5 main()\n",
    "<ipython-input-45-174134c9fede> in main()\n",
    "1 def main():\n",
    "2 dict = {’James’: ’Java’, ’Dennis’ : ’C’, ’Das’:’Python’}\n",
    "----> 3 print(dict[’Ada’])\n",
    "4\n",
    "5 main()\n",
    "KeyError: ’Ada’\n",
    "```\n",
    "\n",
    "## Soluciones\n",
    "\n",
    "### 1. R/"
   ]
  },
  {
   "cell_type": "code",
   "execution_count": 5,
   "id": "lyric-hanging",
   "metadata": {},
   "outputs": [
    {
     "name": "stdout",
     "output_type": "stream",
     "text": [
      "4\n",
      "Intenta acceder una posición que no está en el arreglo\n"
     ]
    }
   ],
   "source": [
    "def get_element_from_list(index,list_of_elements):\n",
    "    try:\n",
    "        return list_of_elements[index]\n",
    "    except:\n",
    "        return 'Intenta acceder una posición que no está en el arreglo'\n",
    "    \n",
    "    \n",
    "lista = [1,2,3,4]\n",
    "print(get_element_from_list(3,lista))\n",
    "print(get_element_from_list(5,lista))"
   ]
  },
  {
   "cell_type": "markdown",
   "id": "victorian-archives",
   "metadata": {},
   "source": [
    "### 2. R/"
   ]
  },
  {
   "cell_type": "code",
   "execution_count": 11,
   "id": "little-clearing",
   "metadata": {},
   "outputs": [
    {
     "name": "stdout",
     "output_type": "stream",
     "text": [
      "Ingrese un número: 1\n",
      "Ingrese otro número: 2\n",
      "3\n"
     ]
    }
   ],
   "source": [
    "def operar(a, b):\n",
    "    try:\n",
    "        return a+b\n",
    "    except:\n",
    "        return 'Los tipos de datos no cuadran para hacer la operación'\n",
    "def main():\n",
    "    try:\n",
    "        a = int(input(\"Ingrese un número: \"))\n",
    "        b = int(input(\"Ingrese otro número: \"))\n",
    "        return operar(a, b)  \n",
    "    except:\n",
    "        return 'El valor ingresado no es un número'\n",
    "print(main())"
   ]
  },
  {
   "cell_type": "markdown",
   "id": "graduate-associate",
   "metadata": {},
   "source": [
    "### 3. R/"
   ]
  },
  {
   "cell_type": "code",
   "execution_count": 15,
   "id": "silver-conducting",
   "metadata": {},
   "outputs": [
    {
     "name": "stdout",
     "output_type": "stream",
     "text": [
      "Intenta acceder una llave que no está en el diccionario\n"
     ]
    }
   ],
   "source": [
    "def main():\n",
    "    try:\n",
    "        dict = {'James': 'Java', 'Dennis' : 'C', 'Das':'Python'}\n",
    "        print(dict['Ada'])\n",
    "    except:\n",
    "        print(\"Intenta acceder una llave que no está en el diccionario\")\n",
    "main()"
   ]
  }
 ],
 "metadata": {
  "kernelspec": {
   "display_name": "Python 3",
   "language": "python",
   "name": "python3"
  },
  "language_info": {
   "codemirror_mode": {
    "name": "ipython",
    "version": 3
   },
   "file_extension": ".py",
   "mimetype": "text/x-python",
   "name": "python",
   "nbconvert_exporter": "python",
   "pygments_lexer": "ipython3",
   "version": "3.8.10"
  }
 },
 "nbformat": 4,
 "nbformat_minor": 5
}
