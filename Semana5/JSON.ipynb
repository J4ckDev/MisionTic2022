{
 "cells": [
  {
   "cell_type": "markdown",
   "id": "fixed-strike",
   "metadata": {},
   "source": [
    "# Problema\n",
    "\n",
    "Para el JSON con la siguiente estructura:  \n",
    "```json\n",
    "{\n",
    "    \"jadiazcoronado\":{\n",
    "        \"nombres\": \"Juan Antonio\",\n",
    "        \"apellidos\": \"Dı́az Coronado\",\n",
    "        \"edad\":19,\n",
    "        \"colombiano\":true,\n",
    "        \"deportes\":[\"Fútbol\",\"Ajedrez\",\"Gimnasia\"]\n",
    "    },\n",
    "    ...\n",
    "    \"dmlunasol\":{\n",
    "        \"nombres\": \"Dorotea Maritza\",\n",
    "        \"apellidos\": \"Luna Sol\",\n",
    "        \"edad\":25,\n",
    "        \"colombiano\":false,\n",
    "        \"deportes\":[\"Baloncesto\",\"Ajedrez\",\"Gimnasia\"]\n",
    "    }\n",
    "}\n",
    "```\n",
    "\n",
    "Cree un programa que lea ese archivo JSON y realice lo siguiente:\n",
    "\n",
    "1. Imprima los nombres completos (nombre y apellidos) de las personas que practican el deporte ingresado por el usuario.\n",
    "2. Imprima los nombres completos (nombre y apellido) de las personas que estén en un rango de edades dado por el usuario.\n",
    "3. Cree un JSON de deportes con la siguiente estructura:\n",
    "```json\n",
    "{\n",
    "\"Ajedrez\":[\"jadiazcoronado\",...,\"dmlunasol\"],\n",
    "\"Futbol\":[\"jadiazcoronado\",...],\n",
    "\"Gimnasia\":[\"jadiazcoronado,...,\"dmlunasol\"],\n",
    "...\n",
    "\"Baloncesto\":[...,\"dmlunasol\"]\n",
    "}\n",
    "```\n",
    "\n",
    "4. Desarrolle un programa que lea dos archivos JSON, y encuentre los componentes clave:valor que son iguales en ambos. Genere un nuevo archivo JSON con las coincidencias exactas entre los dos archivos.\n",
    "5. Desarrolle un programa que lea un archivo JSON, en el cual se encuentran las notas de los estudiantes del curso. Cada llave corresponde al código de cada estudiante, y su valor es una lista con las notas obtenidas en las actividades del curso. Se debe generar unnuevo archivo JSON que para uno de los estudiantes solo guarde el promedio de las notas obtenidas. \n",
    "6. Desarrollar un programa que lea un archivo JSON que contiene una serie de cadenas de caracteres en minúscula, cada una con su propia llave. Estas llaves tienen una codificación, a forma de encriptación, en donde las vocales están descritas como otros sı́mbolos: \\\\$ en vez de a, # en vez de e, * en vez de i, ¬ en vez de o, y + en vez de u. Una vez leı́do el archivo, realice una desencriptación de todas las cadenas, es decir, convierta los sı́mbolos a sus vocales correspondientes (si la cadena de entrada es ”h¬l \\\\$”, la cadena resultante serı́a ”hola”), y guarde el resultado en un nuevo archivo JSON.\n",
    "\n",
    "\n",
    "## Solución\n",
    "\n",
    "### 1. R/"
   ]
  },
  {
   "cell_type": "code",
   "execution_count": null,
   "id": "greater-arena",
   "metadata": {},
   "outputs": [],
   "source": []
  }
 ],
 "metadata": {
  "kernelspec": {
   "display_name": "Python 3",
   "language": "python",
   "name": "python3"
  },
  "language_info": {
   "codemirror_mode": {
    "name": "ipython",
    "version": 3
   },
   "file_extension": ".py",
   "mimetype": "text/x-python",
   "name": "python",
   "nbconvert_exporter": "python",
   "pygments_lexer": "ipython3",
   "version": "3.8.10"
  }
 },
 "nbformat": 4,
 "nbformat_minor": 5
}
