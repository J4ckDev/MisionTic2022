{
 "cells": [
  {
   "cell_type": "markdown",
   "id": "computational-legend",
   "metadata": {},
   "source": [
    "# Los jinetes del arpacalipsis\n",
    "\n",
    "Deiv Mostacho ha hecho las pases con James Hammett, Kirk Hetfield, Cliff Newsted y Lars Trujillo, y han decidido unificar todos los videojuegos de ArpaLlanera Hero que han desarrollado. Para ello, quieren hacer un concierto que han denominado \"Los Jinetes del Arpacalipsis\", y para ello han llamado más melenudos a cantar con ellos, y han decidido armar la lista de invitados. Deiv y James han hecho las listas de invitados en nombre de sus compañeros, pero cada uno por aparte, lo cual como es de esperar tendrá problemas, por un lado porque tienen algunos conocidos en común, y por otro lado, porque ponerlos de acuerdo no suele ser sencillo.\n",
    "\n",
    "Usted los está escuchando discutir, y se da cuenta que desde ya puede adivinar algunos de los problemas que van a pasar, y que fijo lo van a poner a programar una solución para eso; anticipándose, decide crear un módulo de Python propio para que cuando sea el momento, usted invoque soluciones que ya ha definido, y con eso, además de resolverles el problema, no se aguanta la intensidad de los melenudos esos. Ya llegaron los invitados, y están formados en una fila, por el mismo desorden de información a cada uno se le asigno un turno en orden de llegara (la primera persona que llega tiene el primer turno). Usted ha decidido llamar a la librería 'arpacalipsis' [1 punto], y le va a colocar las siguientes funciones:\n",
    "\n",
    "1. *[1 punto]* Función 'tipo_melenudos' que va a recibir una lista, la cual se obtiene de una columna de la lista de invitados que determina el tipo de melenudo. Para facilitar el ingreso, se deben determinar los tipos de melenudos existentes, así que la función debe retornar los tipos de melenudos sin repetir que aparecen en dicha lista.  \n",
    "\n",
    "    Por ejemplo. si la lista original es:\n",
    "\n",
    "    `tipo_melenudos(['jalacables', ´poguero', 'jalacables', 'showsero', 'poguero', 'poguero'])`\n",
    "    \n",
    "    La función debería retornar:\n",
    "\n",
    "    `['jalacables', 'poguero', 'showsero']`\n",
    "    \n",
    "    \n",
    "2. *[1 punto]* Función 'si_son', la cual va a recibir algunos turnos de la fila, una lista con el tipo de melenudo de cada uno de los melenudos en la fila (en el mismo orden de llegada, es decir, el primer tipo de la lista corresponde al primer melenudo en la fila), y un tipo de melenudo a verificar en los turnos definidos, esto porque entre tanta gente, se confunde un poco el invitado a qué área se debe dirigir, y también es complicado confiar del todo en la palabra de cada uno: todos quieren ver el show de la forma más relajado posible. Así que la función va a retornar una lista con los turnos de los ingresados que efectivamente tienen el tipo de melenudo que se está verificando.  \n",
    "\n",
    "    Por ejemplo, si los parámetros son:\n",
    "\n",
    "    `si_son([1,3,5,7], ['jalacables', ´poguero', 'jalacables', 'showsero', 'poguero', 'poguero', 'showsero', 'jalacables'], 'jalacables')`  \n",
    "    \n",
    "    La función debería retornar:\n",
    "\n",
    "    `[7]`\n",
    "    \n",
    "\n",
    "3. *[1 punto]* La función 'no_estan', la cual va a recibir dos listas: los turnos en la fila de los invitados en la lista de Deiv, y los turnos en la fila de los invitados por James, y debe determinar cuales de los invitados de Deiv no han sido invitados por James (para evitar confusiones, y también evitar colados). \n",
    "\n",
    "    Por ejemplo, a la siguiente entrada:\n",
    "\n",
    "    `no_estan([1,2,3,5,7,8], [2,3,7,8])`\n",
    "    \n",
    "    La salida debería ser:\n",
    "\n",
    "    `[1,5]`\n",
    "    \n",
    "\n",
    "4. [1 punto] La función 'uno_y_uno', que va a recibir la lista de Deiv y la lista de James. Esta función surge por un motivo, se está llenando el lugar del evento, y James ha discutido con Deiv de quién debería entrar. Han logrado llegar al acuerdo de que de los invitados que no están en ambas listas, va a entrar uno y uno de cada lista. La función debe retornar la cantidad de personas de cada lista que podrían entrar al evento.\n",
    "\n",
    "    Por ejemplo, a la siguiente entrada:\n",
    "\n",
    "    `uno_y_uno([1,2,4,5,7,8], [2,3,7,8])`\n",
    "    \n",
    "    La salida debería ser:\n",
    "\n",
    "    `1`\n",
    "    \n",
    "    porque de la lista de James (segunda lista) solo el turno 3 es válido para ingresar, y así un invitado de la lista de Deiv, en este caso el del turno 1, podría ingresar como corresponde.\n",
    "    \n",
    "**Entrada:**\n",
    "\n",
    "Este programa no requiere entrada. Ni generará salida. Se requiere que el estudiante genere un archivo con el nombre **arpacalipsis.py** y que se respeten los nombres de las funciones dadas y sus parámetros.\n",
    "\n",
    "## Solución"
   ]
  },
  {
   "cell_type": "code",
   "execution_count": 1,
   "id": "historical-disposal",
   "metadata": {},
   "outputs": [],
   "source": [
    "def tipo_melenudos(lista):\n",
    "    tipos_melenudos = []\n",
    "    for elemento in lista:\n",
    "        if elemento not in tipos_melenudos:\n",
    "            tipos_melenudos.append(elemento)\n",
    "    return tipos_melenudos\n",
    "\n",
    "def si_son(turnos,fila_melenudos,tipo_melenudo):\n",
    "    si_ingresan = []\n",
    "    for turno in turnos:\n",
    "        if tipo_melenudo == fila_melenudos[turno]:\n",
    "            si_ingresan.append(turno)\n",
    "    return si_ingresan\n",
    "\n",
    "def no_estan(invitados_deiv,invitados_james):\n",
    "    no_invitados = []\n",
    "    for invitado in invitados_deiv:\n",
    "        if invitado not in invitados_james:\n",
    "            no_invitados.append(invitado)\n",
    "    return no_invitados\n",
    "\n",
    "def uno_y_uno(lista_deiv,lista_james):\n",
    "    validos_deiv = len(no_estan(lista_deiv,lista_james))\n",
    "    validos_james = len(no_estan(lista_james,lista_deiv))\n",
    "    if validos_deiv < validos_james:\n",
    "        return validos_deiv\n",
    "    elif validos_deiv > validos_james:\n",
    "        return validos_james\n",
    "    else:\n",
    "        return validos_deiv"
   ]
  },
  {
   "cell_type": "markdown",
   "id": "administrative-civilian",
   "metadata": {},
   "source": [
    "### Pruebas"
   ]
  },
  {
   "cell_type": "code",
   "execution_count": 7,
   "id": "moral-lending",
   "metadata": {},
   "outputs": [
    {
     "data": {
      "text/plain": [
       "['jalacables', 'poguero', 'showsero']"
      ]
     },
     "execution_count": 7,
     "metadata": {},
     "output_type": "execute_result"
    }
   ],
   "source": [
    "tipo_melenudos(['jalacables', 'poguero', 'jalacables', 'showsero', 'poguero', 'poguero'])"
   ]
  },
  {
   "cell_type": "code",
   "execution_count": 8,
   "id": "weird-iceland",
   "metadata": {},
   "outputs": [
    {
     "data": {
      "text/plain": [
       "[7]"
      ]
     },
     "execution_count": 8,
     "metadata": {},
     "output_type": "execute_result"
    }
   ],
   "source": [
    "si_son([1,3,5,7], ['jalacables', 'poguero', 'jalacables', 'showsero', 'poguero', 'poguero', 'showsero', 'jalacables'], 'jalacables')"
   ]
  },
  {
   "cell_type": "code",
   "execution_count": 9,
   "id": "split-brighton",
   "metadata": {},
   "outputs": [
    {
     "data": {
      "text/plain": [
       "[1, 5]"
      ]
     },
     "execution_count": 9,
     "metadata": {},
     "output_type": "execute_result"
    }
   ],
   "source": [
    "no_estan([1,2,3,5,7,8], [2,3,7,8])"
   ]
  },
  {
   "cell_type": "code",
   "execution_count": 5,
   "id": "statewide-equivalent",
   "metadata": {},
   "outputs": [
    {
     "data": {
      "text/plain": [
       "1"
      ]
     },
     "execution_count": 5,
     "metadata": {},
     "output_type": "execute_result"
    }
   ],
   "source": [
    "uno_y_uno([1,2,4,5,7,8], [2,3,7,8])"
   ]
  }
 ],
 "metadata": {
  "kernelspec": {
   "display_name": "Python 3",
   "language": "python",
   "name": "python3"
  },
  "language_info": {
   "codemirror_mode": {
    "name": "ipython",
    "version": 3
   },
   "file_extension": ".py",
   "mimetype": "text/x-python",
   "name": "python",
   "nbconvert_exporter": "python",
   "pygments_lexer": "ipython3",
   "version": "3.8.10"
  }
 },
 "nbformat": 4,
 "nbformat_minor": 5
}
