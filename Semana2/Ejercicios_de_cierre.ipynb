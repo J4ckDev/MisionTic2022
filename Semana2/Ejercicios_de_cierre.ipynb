{
 "cells": [
  {
   "cell_type": "markdown",
   "id": "sized-dialogue",
   "metadata": {},
   "source": [
    "# Problemas\n",
    "\n",
    "1. Si en la UN están podando árboles y cada rama tiene P hojas, y a cada árbol le quitaron K ramas, cuántos árboles se deben podar para obtener T hojas?.\n",
    "2. Si un amigo, no tan amigo, me presta K pesos a i pesos de interés diario, ¿cuánto le pagaré en una semana si el interés es simple?, ¿y cuánto si el interés es compuesto?.\n",
    "3. En una granja se crı́an un número de V - Vacas, A - Aves (pollos y gallinas) y E - escorpiones. Las vacas están encerradas en un corral de N × M metros cuadrados, las aves en un galpón y los escorpiones en vitrinas. Para cada subproblema utilice solo los datos que necesite\n",
    "    - Si una vaca necesita K metros cuadrados de pasto para producir X litros de leche por dı́a, ¿cuántos litros de leche se producen por semana en la granja?.\n",
    "\n",
    "    - Si 1/3 de las aves que hay en la granja son gallinas, y la mitad de las gallinas ponen 1 huevo cada 3 dı́as y la otra mitad 1 huevo cada 5 dı́as, ¿en un mes cuántos huevos producen? (1 mes ≡ 30 dı́as).\n",
    "\n",
    "    - Si los escorpiones de la granja se venden a China, y hay escorpiones de tres diferentes tamaños: pequeños (con un peso de 20 gramos), medianos (con un peso 30 gramos) y grandes (con un peso de 50 gramos), ¿cuántos kilos de escorpiones se pueden vender sin que decrezca la población a menos de 2/3?.\n",
    "    \n",
    "    - Al granjero se le daño el corral y no sabe si volver a cercar el corral con madera, alambre de púas o poner reja de metal. Si va a cercar con madera debe poner 4 hileras de tablas, con varilla 8 hileras y con alambre solo 5 hileras, él quiere saber que es lo menos costoso para cercar si sabe que el alambre de púas vale P por metro, las tablas a Q por metro y las varillas S por metro. Dado el tamaño del corral y los precios de los elementos, ¿cuál cerramiento es el más económico?.\n",
    "\n",
    "# Solución\n",
    "\n",
    "## 1. R/"
   ]
  },
  {
   "cell_type": "code",
   "execution_count": 9,
   "id": "direct-cover",
   "metadata": {},
   "outputs": [
    {
     "name": "stdout",
     "output_type": "stream",
     "text": [
      "Ingrese el número de hojas que tiene cada rama: 10\n",
      "Ingrese el número de ramas retiradas en cada árbol: 5\n",
      "Ingrese el número de hojas que desea obtener: 49\n",
      "Debes podar 1 árbol para conseguir las 49 hojas deseadas.\n"
     ]
    }
   ],
   "source": [
    "import math\n",
    "leaves = int(input(\"Ingrese el número de hojas que tiene cada rama: \"))\n",
    "branches = int(input(\"Ingrese el número de ramas retiradas en cada árbol: \"))\n",
    "desired_leaves = int(input(\"Ingrese el número de hojas que desea obtener: \"))\n",
    "trees = math.ceil(desired_leaves/(leaves*branches))\n",
    "message_tree = f\"{trees} árbol\" if (trees == 1) else f\"{trees} árboles\" \n",
    "message_leaves = \"la hoja deseada.\" if desired_leaves == 1 else f\"las {desired_leaves} hojas deseadas.\"\n",
    "print(f\"Debes podar {message_tree} para conseguir {message_leaves}\")"
   ]
  },
  {
   "cell_type": "markdown",
   "id": "periodic-strengthening",
   "metadata": {},
   "source": [
    "## 2. R/"
   ]
  },
  {
   "cell_type": "code",
   "execution_count": 16,
   "id": "limited-flight",
   "metadata": {},
   "outputs": [
    {
     "name": "stdout",
     "output_type": "stream",
     "text": [
      "Ingrese la cantidad de dinero que le prestaron: 500\n",
      "Ingrese el porcentaje de interés diario: 3\n",
      "El dinero que debes pagar con interés simple es: $605.0\n",
      "El dinero que debes pagar con interés compuesto es: $614.9369327124351\n"
     ]
    }
   ],
   "source": [
    "borrowed_money = int(input(\"Ingrese la cantidad de dinero que le prestaron: \"))\n",
    "interest = int(input(\"Ingrese el porcentaje de interés diario: \"))\n",
    "\n",
    "with_simple_interest = borrowed_money * (1+(interest/100)*7)\n",
    "with_compound_interest = borrowed_money * ((1+(interest/100))**7)\n",
    "\n",
    "print(f\"El dinero que debes pagar con interés simple es: ${with_simple_interest}\")\n",
    "print(f\"El dinero que debes pagar con interés compuesto es: ${with_compound_interest}\")"
   ]
  }
 ],
 "metadata": {
  "kernelspec": {
   "display_name": "Python 3",
   "language": "python",
   "name": "python3"
  },
  "language_info": {
   "codemirror_mode": {
    "name": "ipython",
    "version": 3
   },
   "file_extension": ".py",
   "mimetype": "text/x-python",
   "name": "python",
   "nbconvert_exporter": "python",
   "pygments_lexer": "ipython3",
   "version": "3.8.5"
  }
 },
 "nbformat": 4,
 "nbformat_minor": 5
}
