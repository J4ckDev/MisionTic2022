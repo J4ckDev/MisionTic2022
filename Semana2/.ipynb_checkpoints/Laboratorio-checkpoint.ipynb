{
 "cells": [
  {
   "cell_type": "markdown",
   "id": "miniature-respondent",
   "metadata": {},
   "source": [
    "\n",
    "# Problema\n",
    "\n",
    "El Centro Comercial Unaleño desea comenzar a crear un carrito de compras. Para esto se requiere una tarea que será de gran utilidad a futuro: Leer y clasificar la información sobre un producto. \n",
    "\n",
    "En esta ocasión se deberá leer el nombre de un producto, el costo unitario, el precio de venta al público y la cantidad de unidades disponibles. Dada esta lectura se debe imprimir el valor total que puede ganar el centro comercial por dicho producto.\n",
    "\n",
    "- **Entrada.** Los valores de cada producto en una línea de código diferente. En el siguiente orden:  \n",
    "    - El nombre del producto\n",
    "    - El costo unitario CU\n",
    "    - El precio de venta al público PVP\n",
    "    - La cantidad de unidades disponibles\n",
    "- **Salida.** Se debe mostrar lo siguiente:\n",
    "    - El texto “Producto” sin comillas acompañado del nombre del producto\n",
    "    - El texto “CU:” sin comillas acompañado del costo unitario del mismo\n",
    "    - El texto “PVP:” sin comillas acompañado del precio de venta al público\n",
    "    - El texto “Unidades Disponibles:” acompañado de las unidades disponibles\n",
    "    - El texto “Ganancia:” acompañado del cálculo de la ganancia por ese producto.  \n",
    "- **Ejemplo**  \n",
    "|Entrada|Salida|\n",
    "|:------|:-----|\n",
    "|Chocolatinas Cohete|Producto: Chocolatinas Cohete|\n",
    "|300|CU: \\$300|\n",
    "|550|PVP: \\$550|\n",
    "|1000|Unidades Disponibles: 1000|\n",
    "||Ganancia: \\$250000|\n",
    "\n",
    "## Solución"
   ]
  },
  {
   "cell_type": "code",
   "execution_count": 4,
   "id": "graduate-gender",
   "metadata": {},
   "outputs": [
    {
     "name": "stdout",
     "output_type": "stream",
     "text": [
      "Producto: Chocolatinas Cohete\n",
      "CU: $300\n",
      "PVP: $550\n",
      "Unidades Disponibles: 1000\n",
      "Ganancia: 250000\n"
     ]
    }
   ],
   "source": [
    "product = \"Chocolatinas Cohete\" #input(\"Ingrese el nombre del producto: \")\n",
    "unit_cost = 300 #input(\"Ingrese el costo unitario: \")\n",
    "unit_price = 550 #input(\"Ingrese el precio de venta al público: \")\n",
    "total_units = 1000 #input(\"Ingrese la cantidad de unidades disponibles: \")\n",
    "profit = (unit_price - unit_cost) * total_units\n",
    "print(f\"Producto: {product}\")\n",
    "print(f\"CU: ${unit_cost}\")\n",
    "print(f\"PVP: ${unit_price}\")\n",
    "print(f\"Unidades Disponibles: {total_units}\")\n",
    "print(f\"Ganancia: ${profit}\")"
   ]
  }
 ],
 "metadata": {
  "kernelspec": {
   "display_name": "Python 3",
   "language": "python",
   "name": "python3"
  },
  "language_info": {
   "codemirror_mode": {
    "name": "ipython",
    "version": 3
   },
   "file_extension": ".py",
   "mimetype": "text/x-python",
   "name": "python",
   "nbconvert_exporter": "python",
   "pygments_lexer": "ipython3",
   "version": "3.8.5"
  }
 },
 "nbformat": 4,
 "nbformat_minor": 5
}
