{
 "cells": [
  {
   "cell_type": "markdown",
   "id": "exempt-honor",
   "metadata": {},
   "source": [
    "# Problemas\n",
    "\n",
    "1. Dado un número entero, determinar si ese número corresponde al código ASCII de una vocal minúscula.\n",
    "2. Dada una cadena de longitud 1, determine si el código ASCII de la primera letra de la cadena es par o no.\n",
    "3. Dado un carácter, construya un programa en Python para determinar si el carácter es un dígito o no.\n",
    "4. Dado un número real *x*, construya una función que permita determinar si el número es positivo, negativo o cero. Para cada caso debe imprimir el texto que se especifica a continuación:\n",
    "\n",
    "    - **Positivo:** \"El número *x* es positivo\"\n",
    "    - **Negativo:** \"El número *x* es negativo\"\n",
    "    - **Cero(0):** \"El número *x* es el neutro  para la suma\"  \n",
    "    \n",
    "    \n",
    "5. Dados dos números reales distintos de cero, *x* y *y* que representen la abscisa y ordenada de un punto *(x, y)* que pertenece a $R^2$, determinar a que cuadrante del plano cartesiano pertenece el par ordenado.\n",
    "6. Dado el centro y el radio de un círculo, determinar si un punto de $R^2$ pertence o no al interior del círculo.\n",
    "7. Dadas tres longitudes positivas, determinar si con esas longitudes se puede construir un triángulo.\n",
    "\n",
    "# Solución\n",
    "\n",
    "## 1. R/"
   ]
  },
  {
   "cell_type": "markdown",
   "id": "enclosed-start",
   "metadata": {},
   "source": [
    "number = int(input(\"Ingrese un número: \"))\n",
    "letter = chr(number)\n",
    "if letter == \"a\" or letter == \"e\" or letter == \"i\" or letter == \"o\" or letter == \"u\":\n",
    "    print(f\"El número ingresado corresponde a la vocal minúscula {letter} :D\")\n",
    "else:\n",
    "    print(f\"El número ingresado no corresponde a una vocal minúscula :(\")"
   ]
  },
  {
   "cell_type": "markdown",
   "id": "professional-heath",
   "metadata": {},
   "source": [
    "## 2.R/"
   ]
  },
  {
   "cell_type": "code",
   "execution_count": 16,
   "id": "metallic-scene",
   "metadata": {},
   "outputs": [
    {
     "name": "stdout",
     "output_type": "stream",
     "text": [
      "Ingresa un caracter: e\n",
      "El código ASCII del caracter e es impar.\n"
     ]
    }
   ],
   "source": [
    "character = input(\"Ingresa un caracter: \")\n",
    "length = len(character)\n",
    "if length == 1:\n",
    "    if ord(character) % 2 == 0:\n",
    "        print(f\"El código ASCII del caracter {character} es par.\")\n",
    "    else:\n",
    "        print(f\"El código ASCII del caracter {character} es impar.\")\n",
    "else:\n",
    "    print(\"Se ingresó una cadena, no un caracter.\")"
   ]
  },
  {
   "cell_type": "markdown",
   "id": "lesbian-armenia",
   "metadata": {},
   "source": [
    "## 3. R/"
   ]
  },
  {
   "cell_type": "code",
   "execution_count": 41,
   "id": "green-metadata",
   "metadata": {},
   "outputs": [
    {
     "name": "stdout",
     "output_type": "stream",
     "text": [
      "Ingresa un caracter: 4\n",
      "Es un dígito\n"
     ]
    }
   ],
   "source": [
    "char = input(\"Ingresa un caracter: \")\n",
    "length = len(character)\n",
    "if length == 1:\n",
    "    if (ord(char) == 48 or ord(char) == 49 or ord(char) == 50 or ord(char) == 51 or ord(char) == 52 \\\n",
    "    or ord(char) == 53 or ord(char) == 54 or ord(char) == 55 or ord(char) == 56 or ord(char) == 57):\n",
    "        print(f\"Es un dígito\")\n",
    "    else:\n",
    "        print(f\"No es un dígito\")\n",
    "else:\n",
    "    print(\"Se ingresó una cadena, no un caracter.\")"
   ]
  },
  {
   "cell_type": "markdown",
   "id": "directed-medicine",
   "metadata": {},
   "source": [
    "## 4. R/"
   ]
  },
  {
   "cell_type": "code",
   "execution_count": 46,
   "id": "fatty-blind",
   "metadata": {},
   "outputs": [
    {
     "name": "stdout",
     "output_type": "stream",
     "text": [
      "Ingrese un número-1445676879\n",
      "El número -1445676879 es negativo.\n"
     ]
    }
   ],
   "source": [
    "num = int(input(\"Ingrese un número\"))\n",
    "if num > 0:\n",
    "    print(f\"El número {num} es positivo.\")\n",
    "elif num < 0:\n",
    "    print(f\"El número {num} es negativo.\")\n",
    "else:\n",
    "    print(f\"El número {num} es neutro para la suma.\")"
   ]
  },
  {
   "cell_type": "markdown",
   "id": "funny-budapest",
   "metadata": {},
   "source": [
    "## 5. R/"
   ]
  },
  {
   "cell_type": "code",
   "execution_count": 49,
   "id": "fitting-fossil",
   "metadata": {},
   "outputs": [
    {
     "name": "stdout",
     "output_type": "stream",
     "text": [
      "Ingrese el valor de x: -23\n",
      "Ingrese el valor de y: 12\n",
      "El par ordenado pertenece al segundo cuadrante.\n"
     ]
    }
   ],
   "source": [
    "x = int(input(\"Ingrese el valor de x: \"))\n",
    "y = int(input(\"Ingrese el valor de y: \"))\n",
    "\n",
    "if x != 0 and y != 0:\n",
    "    if x > 0 and y > 0:\n",
    "        print(\"El par ordenado pertenece al primer cuadrante.\")\n",
    "    elif x < 0 and y > 0:\n",
    "        print(\"El par ordenado pertenece al segundo cuadrante.\")\n",
    "    elif x < 0 and y < 0:\n",
    "        print(\"El par ordenado pertenece al tercer cuadrante.\")\n",
    "    else:\n",
    "        print(\"El par ordenado pertenece al cuarto cuadrante.\")\n",
    "else:\n",
    "    print(\"Debes ingresar valores distintos de cero.\")"
   ]
  },
  {
   "cell_type": "markdown",
   "id": "accomplished-assignment",
   "metadata": {},
   "source": [
    "## 6. R/"
   ]
  },
  {
   "cell_type": "code",
   "execution_count": 57,
   "id": "capable-career",
   "metadata": {},
   "outputs": [
    {
     "name": "stdout",
     "output_type": "stream",
     "text": [
      "Ingrese el radio del círculo: 16.2788205961\n",
      "Ingrese el valor de x para el centro: 3\n",
      "Ingrese el valor de y para el centro: -4\n",
      " \n",
      "Coordenadas para ver si un par ordenado está dentro del círculo.\n",
      "Ingrese el valor de x: 10\n",
      "Ingrese el valor de y: -10\n",
      "True\n"
     ]
    }
   ],
   "source": [
    "radius = float(input(\"Ingrese el radio del círculo: \"))\n",
    "x_c = float(input(\"Ingrese el valor de x para el centro: \"))\n",
    "y_c = float(input(\"Ingrese el valor de y para el centro: \"))\n",
    "print(\" \")\n",
    "print(\"Coordenadas para ver si un par ordenado está dentro del círculo.\")\n",
    "x_p = float(input(\"Ingrese el valor de x: \"))\n",
    "y_p = float(input(\"Ingrese el valor de y: \"))\n",
    "\n",
    "circle_range = ((x_p + (x_c * -1)) ** 2) + ((y_p + (y_c * -1)) ** 2) <= radius ** 2\n",
    "print(circle_range)"
   ]
  },
  {
   "cell_type": "markdown",
   "id": "iraqi-scenario",
   "metadata": {},
   "source": [
    "## 7. R/"
   ]
  },
  {
   "cell_type": "code",
   "execution_count": 98,
   "id": "outside-border",
   "metadata": {},
   "outputs": [
    {
     "name": "stdout",
     "output_type": "stream",
     "text": [
      "Ingrese la primera longitud positiva: 5\n",
      "Ingrese la segunda longitud positiva: 13\n",
      "Ingrese la tercera longitud positiva: 50\n",
      "No se puede construir ningún tipo de triángulo :(\n"
     ]
    }
   ],
   "source": [
    "def is_equilateral(a,b,c):\n",
    "    return True if a == b == c else False\n",
    "\n",
    "def is_isosceles(a,b,c):\n",
    "    if a == b:\n",
    "        return True if (a + b) > c else False\n",
    "    elif b == c:\n",
    "        return True if (b + c) > a else False        \n",
    "    elif a == c:\n",
    "        return True if (a + c) > b else False\n",
    "\n",
    "def is_scalene(a,b,c):\n",
    "    if a < b or b < a:\n",
    "        return True if (a + b) > c else False\n",
    "    elif a < c or c < a:\n",
    "        return True if (a + c) > b else False\n",
    "    elif b < c or c < b:\n",
    "        return True if (b + c) > a else False  \n",
    "\n",
    "def is_triangle(a,b,c):\n",
    "    if is_equilateral(a,b,c):\n",
    "        return \"Se puede construir un triángulo equilátero.\"\n",
    "    elif is_isosceles(a,b,c):\n",
    "        return \"Se puede construir un triángulo isósceles.\"\n",
    "    elif is_scalene(a,b,c):\n",
    "        return \"Se puede construir un triángulo escaleno.\"\n",
    "    else:\n",
    "        return \"No se puede construir ningún tipo de triángulo :(\"    \n",
    "\n",
    "a = float(input(\"Ingrese la primera longitud positiva: \"))\n",
    "b = float(input(\"Ingrese la segunda longitud positiva: \"))\n",
    "c = float(input(\"Ingrese la tercera longitud positiva: \"))\n",
    "\n",
    "if a > 0 and b > 0 and c > 0:\n",
    "    print(is_triangle(a,b,c))\n",
    "else:\n",
    "    print(\"Ingresaste una longitud negativa o igual a cero, no se puede construir un triángulo :(\")"
   ]
  }
 ],
 "metadata": {
  "kernelspec": {
   "display_name": "Python 3",
   "language": "python",
   "name": "python3"
  },
  "language_info": {
   "codemirror_mode": {
    "name": "ipython",
    "version": 3
   },
   "file_extension": ".py",
   "mimetype": "text/x-python",
   "name": "python",
   "nbconvert_exporter": "python",
   "pygments_lexer": "ipython3",
   "version": "3.8.5"
  }
 },
 "nbformat": 4,
 "nbformat_minor": 5
}
