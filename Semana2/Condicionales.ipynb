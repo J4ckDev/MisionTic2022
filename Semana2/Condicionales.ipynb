{
 "cells": [
  {
   "cell_type": "markdown",
   "id": "exempt-honor",
   "metadata": {},
   "source": [
    "# Problemas\n",
    "\n",
    "1. Dado un número entero, determinar si ese número corresponde al código ASCII de una vocal minúscula.\n",
    "2. Dada una cadena de longitud 1, determine si el código ASCII de la primera letra de la cadena es par o no.\n",
    "3. Dado un carácter, construya un programa en Python para determinar si el carácter es un dígito o no.\n",
    "4. Dado un número real *x*, construya una función que permita determinar si el número es positivo, negativo o cero. Para cada caso debe imprimir el texto que se especifica a continuación:\n",
    "\n",
    "    - **Positivo:** \"El número *x* es positivo\"\n",
    "    - **Negativo:** \"El número *x* es negativo\"\n",
    "    - **Cero(0):** \"El número *x* es el neutro  para la suma\"\n",
    "    \n",
    "5. Dado el centro y el radio de un círculo, determinar si un punto de $R^2$ pertence o no al interior del círculo.\n",
    "6. Dadas tres longitudes positivas, determinar si con esas longitudes se puede construir un triángulo.\n",
    "\n",
    "# Solución\n",
    "\n",
    "## 1. R/"
   ]
  },
  {
   "cell_type": "code",
   "execution_count": null,
   "id": "organized-virtue",
   "metadata": {},
   "outputs": [],
   "source": []
  }
 ],
 "metadata": {
  "kernelspec": {
   "display_name": "Python 3",
   "language": "python",
   "name": "python3"
  },
  "language_info": {
   "codemirror_mode": {
    "name": "ipython",
    "version": 3
   },
   "file_extension": ".py",
   "mimetype": "text/x-python",
   "name": "python",
   "nbconvert_exporter": "python",
   "pygments_lexer": "ipython3",
   "version": "3.8.5"
  }
 },
 "nbformat": 4,
 "nbformat_minor": 5
}
